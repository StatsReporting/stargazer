{
 "cells": [
  {
   "cell_type": "markdown",
   "metadata": {},
   "source": [
    "# Stargazer Examples"
   ]
  },
  {
   "cell_type": "code",
   "execution_count": 2,
   "metadata": {},
   "outputs": [],
   "source": [
    "import pandas as pd\n",
    "from sklearn import datasets\n",
    "import statsmodels.api as sm\n",
    "from stargazer.stargazer import Stargazer, LineLocation"
   ]
  },
  {
   "cell_type": "code",
   "execution_count": 2,
   "metadata": {},
   "outputs": [],
   "source": [
    "diabetes = datasets.load_diabetes()\n",
    "df = pd.DataFrame(diabetes.data)\n",
    "df.columns = ['Age', 'Sex', 'BMI', 'ABP', 'S1', 'S2', 'S3', 'S4', 'S5', 'S6']\n",
    "df['target'] = diabetes.target\n",
    "\n",
    "est = sm.OLS(endog=df['target'], exog=sm.add_constant(df[df.columns[0:4]])).fit()\n",
    "est2 = sm.OLS(endog=df['target'], exog=sm.add_constant(df[df.columns[0:6]])).fit()\n",
    "\n",
    "\n",
    "stargazer = Stargazer([est, est2])"
   ]
  },
  {
   "cell_type": "markdown",
   "metadata": {},
   "source": [
    "## Standard"
   ]
  },
  {
   "cell_type": "code",
   "execution_count": 3,
   "metadata": {},
   "outputs": [
    {
     "data": {
      "text/html": [
       "<table style=\"text-align:center\"><tr><td colspan=\"3\" style=\"border-bottom: 1px solid black\"></td></tr>\n",
       "<tr><td style=\"text-align:left\"></td><td colspan=\"2\"><em>Dependent variable: target</em></td></tr><tr><td style=\"text-align:left\"></td><tr><td style=\"text-align:left\"></td><td>(1)</td><td>(2)</td></tr>\n",
       "<tr><td colspan=\"3\" style=\"border-bottom: 1px solid black\"></td></tr>\n",
       "\n",
       "<tr><td style=\"text-align:left\">ABP</td><td>416.673<sup>***</sup></td><td>397.581<sup>***</sup></td></tr>\n",
       "<tr><td style=\"text-align:left\"></td><td>(69.495)</td><td>(70.870)</td></tr>\n",
       "<tr><td style=\"text-align:left\">Age</td><td>37.241<sup></sup></td><td>24.703<sup></sup></td></tr>\n",
       "<tr><td style=\"text-align:left\"></td><td>(64.117)</td><td>(65.411)</td></tr>\n",
       "<tr><td style=\"text-align:left\">BMI</td><td>787.182<sup>***</sup></td><td>789.744<sup>***</sup></td></tr>\n",
       "<tr><td style=\"text-align:left\"></td><td>(65.424)</td><td>(66.887)</td></tr>\n",
       "<tr><td style=\"text-align:left\">S1</td><td></td><td>197.848<sup></sup></td></tr>\n",
       "<tr><td style=\"text-align:left\"></td><td></td><td>(143.812)</td></tr>\n",
       "<tr><td style=\"text-align:left\">S2</td><td></td><td>-169.243<sup></sup></td></tr>\n",
       "<tr><td style=\"text-align:left\"></td><td></td><td>(142.744)</td></tr>\n",
       "<tr><td style=\"text-align:left\">Sex</td><td>-106.576<sup>*</sup></td><td>-82.862<sup></sup></td></tr>\n",
       "<tr><td style=\"text-align:left\"></td><td>(62.125)</td><td>(64.851)</td></tr>\n",
       "<tr><td style=\"text-align:left\">const</td><td>152.133<sup>***</sup></td><td>152.133<sup>***</sup></td></tr>\n",
       "<tr><td style=\"text-align:left\"></td><td>(2.853)</td><td>(2.853)</td></tr>\n",
       "\n",
       "<td colspan=\"3\" style=\"border-bottom: 1px solid black\"></td></tr>\n",
       "<tr><td style=\"text-align: left\">Observations</td><td>442</td><td>442</td></tr><tr><td style=\"text-align: left\">R<sup>2</sup></td><td>0.400</td><td>0.403</td></tr><tr><td style=\"text-align: left\">Adjusted R<sup>2</sup></td><td>0.395</td><td>0.395</td></tr><tr><td style=\"text-align: left\">Residual Std. Error</td><td>59.976 (df=437)</td><td>59.982 (df=435)</td></tr><tr><td style=\"text-align: left\">F Statistic</td><td>72.913<sup>***</sup> (df=4; 437)</td><td>48.915<sup>***</sup> (df=6; 435)</td></tr>\n",
       "<tr><td colspan=\"3\" style=\"border-bottom: 1px solid black\"></td></tr><tr><td style=\"text-align: left\">Note:</td><td colspan=\"2\" style=\"text-align: right\"><sup>*</sup>p&lt;0.1; <sup>**</sup>p&lt;0.05; <sup>***</sup>p&lt;0.01</td></tr></table>"
      ],
      "text/plain": [
       "<stargazer.stargazer.Stargazer at 0x7f35ef26fdd0>"
      ]
     },
     "execution_count": 3,
     "metadata": {},
     "output_type": "execute_result"
    }
   ],
   "source": [
    "# Equivalent to:\n",
    "# from IPython.core.display import HTML\n",
    "# HTML(stargazer.render_html())\n",
    "\n",
    "stargazer"
   ]
  },
  {
   "cell_type": "code",
   "execution_count": 4,
   "metadata": {},
   "outputs": [
    {
     "name": "stdout",
     "output_type": "stream",
     "text": [
      "\\begin{table}[!htbp] \\centering\n",
      "\\begin{tabular}{@{\\extracolsep{5pt}}lcc}\n",
      "\\\\[-1.8ex]\\hline\n",
      "\\hline \\\\[-1.8ex]\n",
      "& \\multicolumn{2}{c}{\\textit{Dependent variable: target}} \\\n",
      "\\cr \\cline{2-3}\n",
      "\\\\[-1.8ex] & (1) & (2) \\\\\n",
      "\\hline \\\\[-1.8ex]\n",
      " ABP & 416.673$^{***}$ & 397.581$^{***}$ \\\\\n",
      "& (69.495) & (70.870) \\\\\n",
      " Age & 37.241$^{}$ & 24.703$^{}$ \\\\\n",
      "& (64.117) & (65.411) \\\\\n",
      " BMI & 787.182$^{***}$ & 789.744$^{***}$ \\\\\n",
      "& (65.424) & (66.887) \\\\\n",
      " S1 & & 197.848$^{}$ \\\\\n",
      "& & (143.812) \\\\\n",
      " S2 & & -169.243$^{}$ \\\\\n",
      "& & (142.744) \\\\\n",
      " Sex & -106.576$^{*}$ & -82.862$^{}$ \\\\\n",
      "& (62.125) & (64.851) \\\\\n",
      " const & 152.133$^{***}$ & 152.133$^{***}$ \\\\\n",
      "& (2.853) & (2.853) \\\\\n",
      "\\hline \\\\[-1.8ex]\n",
      " Observations & 442 & 442 \\\\\n",
      " $R^2$ & 0.400 & 0.403 \\\\\n",
      " Adjusted $R^2$ & 0.395 & 0.395 \\\\\n",
      " Residual Std. Error & 59.976 (df=437) & 59.982 (df=435) \\\\\n",
      " F Statistic & 72.913$^{***}$ (df=4; 437) & 48.915$^{***}$ (df=6; 435) \\\\\n",
      "\\hline\n",
      "\\hline \\\\[-1.8ex]\n",
      "\\textit{Note:} & \\multicolumn{2}{r}{$^{*}$p$<$0.1; $^{**}$p$<$0.05; $^{***}$p$<$0.01} \\\\\n",
      "\\end{tabular}\n",
      "\\end{table}\n"
     ]
    }
   ],
   "source": [
    "print(stargazer.render_latex())"
   ]
  },
  {
   "cell_type": "markdown",
   "metadata": {},
   "source": [
    "## Custom Title"
   ]
  },
  {
   "cell_type": "code",
   "execution_count": 5,
   "metadata": {},
   "outputs": [
    {
     "data": {
      "text/html": [
       "Diabetes Study<br><table style=\"text-align:center\"><tr><td colspan=\"3\" style=\"border-bottom: 1px solid black\"></td></tr>\n",
       "<tr><td style=\"text-align:left\"></td><td colspan=\"2\"><em>Dependent variable: target</em></td></tr><tr><td style=\"text-align:left\"></td><tr><td style=\"text-align:left\"></td><td>(1)</td><td>(2)</td></tr>\n",
       "<tr><td colspan=\"3\" style=\"border-bottom: 1px solid black\"></td></tr>\n",
       "\n",
       "<tr><td style=\"text-align:left\">ABP</td><td>416.673<sup>***</sup></td><td>397.581<sup>***</sup></td></tr>\n",
       "<tr><td style=\"text-align:left\"></td><td>(69.495)</td><td>(70.870)</td></tr>\n",
       "<tr><td style=\"text-align:left\">Age</td><td>37.241<sup></sup></td><td>24.703<sup></sup></td></tr>\n",
       "<tr><td style=\"text-align:left\"></td><td>(64.117)</td><td>(65.411)</td></tr>\n",
       "<tr><td style=\"text-align:left\">BMI</td><td>787.182<sup>***</sup></td><td>789.744<sup>***</sup></td></tr>\n",
       "<tr><td style=\"text-align:left\"></td><td>(65.424)</td><td>(66.887)</td></tr>\n",
       "<tr><td style=\"text-align:left\">S1</td><td></td><td>197.848<sup></sup></td></tr>\n",
       "<tr><td style=\"text-align:left\"></td><td></td><td>(143.812)</td></tr>\n",
       "<tr><td style=\"text-align:left\">S2</td><td></td><td>-169.243<sup></sup></td></tr>\n",
       "<tr><td style=\"text-align:left\"></td><td></td><td>(142.744)</td></tr>\n",
       "<tr><td style=\"text-align:left\">Sex</td><td>-106.576<sup>*</sup></td><td>-82.862<sup></sup></td></tr>\n",
       "<tr><td style=\"text-align:left\"></td><td>(62.125)</td><td>(64.851)</td></tr>\n",
       "<tr><td style=\"text-align:left\">const</td><td>152.133<sup>***</sup></td><td>152.133<sup>***</sup></td></tr>\n",
       "<tr><td style=\"text-align:left\"></td><td>(2.853)</td><td>(2.853)</td></tr>\n",
       "\n",
       "<td colspan=\"3\" style=\"border-bottom: 1px solid black\"></td></tr>\n",
       "<tr><td style=\"text-align: left\">Observations</td><td>442</td><td>442</td></tr><tr><td style=\"text-align: left\">R<sup>2</sup></td><td>0.400</td><td>0.403</td></tr><tr><td style=\"text-align: left\">Adjusted R<sup>2</sup></td><td>0.395</td><td>0.395</td></tr><tr><td style=\"text-align: left\">Residual Std. Error</td><td>59.976 (df=437)</td><td>59.982 (df=435)</td></tr><tr><td style=\"text-align: left\">F Statistic</td><td>72.913<sup>***</sup> (df=4; 437)</td><td>48.915<sup>***</sup> (df=6; 435)</td></tr>\n",
       "<tr><td colspan=\"3\" style=\"border-bottom: 1px solid black\"></td></tr><tr><td style=\"text-align: left\">Note:</td><td colspan=\"2\" style=\"text-align: right\"><sup>*</sup>p&lt;0.1; <sup>**</sup>p&lt;0.05; <sup>***</sup>p&lt;0.01</td></tr></table>"
      ],
      "text/plain": [
       "<stargazer.stargazer.Stargazer at 0x7f35ef26fdd0>"
      ]
     },
     "execution_count": 5,
     "metadata": {},
     "output_type": "execute_result"
    }
   ],
   "source": [
    "stargazer.title('Diabetes Study')\n",
    "stargazer"
   ]
  },
  {
   "cell_type": "markdown",
   "metadata": {},
   "source": [
    "## Custom Model Names"
   ]
  },
  {
   "cell_type": "code",
   "execution_count": 6,
   "metadata": {},
   "outputs": [
    {
     "data": {
      "text/html": [
       "Diabetes Study<br><table style=\"text-align:center\"><tr><td colspan=\"3\" style=\"border-bottom: 1px solid black\"></td></tr>\n",
       "<tr><td style=\"text-align:left\"></td><td colspan=\"2\"><em>Dependent variable: target</em></td></tr><tr><td style=\"text-align:left\"></td><tr><td></td><td colspan=\"1\">Model 1</td><td colspan=\"1\">Model 2</td></tr><tr><td style=\"text-align:left\"></td><td>(1)</td><td>(2)</td></tr>\n",
       "<tr><td colspan=\"3\" style=\"border-bottom: 1px solid black\"></td></tr>\n",
       "\n",
       "<tr><td style=\"text-align:left\">ABP</td><td>416.673<sup>***</sup></td><td>397.581<sup>***</sup></td></tr>\n",
       "<tr><td style=\"text-align:left\"></td><td>(69.495)</td><td>(70.870)</td></tr>\n",
       "<tr><td style=\"text-align:left\">Age</td><td>37.241<sup></sup></td><td>24.703<sup></sup></td></tr>\n",
       "<tr><td style=\"text-align:left\"></td><td>(64.117)</td><td>(65.411)</td></tr>\n",
       "<tr><td style=\"text-align:left\">BMI</td><td>787.182<sup>***</sup></td><td>789.744<sup>***</sup></td></tr>\n",
       "<tr><td style=\"text-align:left\"></td><td>(65.424)</td><td>(66.887)</td></tr>\n",
       "<tr><td style=\"text-align:left\">S1</td><td></td><td>197.848<sup></sup></td></tr>\n",
       "<tr><td style=\"text-align:left\"></td><td></td><td>(143.812)</td></tr>\n",
       "<tr><td style=\"text-align:left\">S2</td><td></td><td>-169.243<sup></sup></td></tr>\n",
       "<tr><td style=\"text-align:left\"></td><td></td><td>(142.744)</td></tr>\n",
       "<tr><td style=\"text-align:left\">Sex</td><td>-106.576<sup>*</sup></td><td>-82.862<sup></sup></td></tr>\n",
       "<tr><td style=\"text-align:left\"></td><td>(62.125)</td><td>(64.851)</td></tr>\n",
       "<tr><td style=\"text-align:left\">const</td><td>152.133<sup>***</sup></td><td>152.133<sup>***</sup></td></tr>\n",
       "<tr><td style=\"text-align:left\"></td><td>(2.853)</td><td>(2.853)</td></tr>\n",
       "\n",
       "<td colspan=\"3\" style=\"border-bottom: 1px solid black\"></td></tr>\n",
       "<tr><td style=\"text-align: left\">Observations</td><td>442</td><td>442</td></tr><tr><td style=\"text-align: left\">R<sup>2</sup></td><td>0.400</td><td>0.403</td></tr><tr><td style=\"text-align: left\">Adjusted R<sup>2</sup></td><td>0.395</td><td>0.395</td></tr><tr><td style=\"text-align: left\">Residual Std. Error</td><td>59.976 (df=437)</td><td>59.982 (df=435)</td></tr><tr><td style=\"text-align: left\">F Statistic</td><td>72.913<sup>***</sup> (df=4; 437)</td><td>48.915<sup>***</sup> (df=6; 435)</td></tr>\n",
       "<tr><td colspan=\"3\" style=\"border-bottom: 1px solid black\"></td></tr><tr><td style=\"text-align: left\">Note:</td><td colspan=\"2\" style=\"text-align: right\"><sup>*</sup>p&lt;0.1; <sup>**</sup>p&lt;0.05; <sup>***</sup>p&lt;0.01</td></tr></table>"
      ],
      "text/plain": [
       "<stargazer.stargazer.Stargazer at 0x7f35ef26fdd0>"
      ]
     },
     "execution_count": 6,
     "metadata": {},
     "output_type": "execute_result"
    }
   ],
   "source": [
    "stargazer.custom_columns(['Model 1', 'Model 2'], [1, 1])\n",
    "stargazer"
   ]
  },
  {
   "cell_type": "code",
   "execution_count": 7,
   "metadata": {},
   "outputs": [
    {
     "data": {
      "text/html": [
       "Diabetes Study<br><table style=\"text-align:center\"><tr><td colspan=\"3\" style=\"border-bottom: 1px solid black\"></td></tr>\n",
       "<tr><td style=\"text-align:left\"></td><td colspan=\"2\"><em>Dependent variable: target</em></td></tr><tr><td style=\"text-align:left\"></td><td colspan=\"2\">Test model name</td></tr><tr><td style=\"text-align:left\"></td><td>(1)</td><td>(2)</td></tr>\n",
       "<tr><td colspan=\"3\" style=\"border-bottom: 1px solid black\"></td></tr>\n",
       "\n",
       "<tr><td style=\"text-align:left\">ABP</td><td>416.673<sup>***</sup></td><td>397.581<sup>***</sup></td></tr>\n",
       "<tr><td style=\"text-align:left\"></td><td>(69.495)</td><td>(70.870)</td></tr>\n",
       "<tr><td style=\"text-align:left\">Age</td><td>37.241<sup></sup></td><td>24.703<sup></sup></td></tr>\n",
       "<tr><td style=\"text-align:left\"></td><td>(64.117)</td><td>(65.411)</td></tr>\n",
       "<tr><td style=\"text-align:left\">BMI</td><td>787.182<sup>***</sup></td><td>789.744<sup>***</sup></td></tr>\n",
       "<tr><td style=\"text-align:left\"></td><td>(65.424)</td><td>(66.887)</td></tr>\n",
       "<tr><td style=\"text-align:left\">S1</td><td></td><td>197.848<sup></sup></td></tr>\n",
       "<tr><td style=\"text-align:left\"></td><td></td><td>(143.812)</td></tr>\n",
       "<tr><td style=\"text-align:left\">S2</td><td></td><td>-169.243<sup></sup></td></tr>\n",
       "<tr><td style=\"text-align:left\"></td><td></td><td>(142.744)</td></tr>\n",
       "<tr><td style=\"text-align:left\">Sex</td><td>-106.576<sup>*</sup></td><td>-82.862<sup></sup></td></tr>\n",
       "<tr><td style=\"text-align:left\"></td><td>(62.125)</td><td>(64.851)</td></tr>\n",
       "<tr><td style=\"text-align:left\">const</td><td>152.133<sup>***</sup></td><td>152.133<sup>***</sup></td></tr>\n",
       "<tr><td style=\"text-align:left\"></td><td>(2.853)</td><td>(2.853)</td></tr>\n",
       "\n",
       "<td colspan=\"3\" style=\"border-bottom: 1px solid black\"></td></tr>\n",
       "<tr><td style=\"text-align: left\">Observations</td><td>442</td><td>442</td></tr><tr><td style=\"text-align: left\">R<sup>2</sup></td><td>0.400</td><td>0.403</td></tr><tr><td style=\"text-align: left\">Adjusted R<sup>2</sup></td><td>0.395</td><td>0.395</td></tr><tr><td style=\"text-align: left\">Residual Std. Error</td><td>59.976 (df=437)</td><td>59.982 (df=435)</td></tr><tr><td style=\"text-align: left\">F Statistic</td><td>72.913<sup>***</sup> (df=4; 437)</td><td>48.915<sup>***</sup> (df=6; 435)</td></tr>\n",
       "<tr><td colspan=\"3\" style=\"border-bottom: 1px solid black\"></td></tr><tr><td style=\"text-align: left\">Note:</td><td colspan=\"2\" style=\"text-align: right\"><sup>*</sup>p&lt;0.1; <sup>**</sup>p&lt;0.05; <sup>***</sup>p&lt;0.01</td></tr></table>"
      ],
      "text/plain": [
       "<stargazer.stargazer.Stargazer at 0x7f35ef26fdd0>"
      ]
     },
     "execution_count": 7,
     "metadata": {},
     "output_type": "execute_result"
    }
   ],
   "source": [
    "stargazer.custom_columns('Test model name')\n",
    "stargazer"
   ]
  },
  {
   "cell_type": "markdown",
   "metadata": {},
   "source": [
    "## Remove Model Numbers"
   ]
  },
  {
   "cell_type": "code",
   "execution_count": 8,
   "metadata": {},
   "outputs": [
    {
     "data": {
      "text/html": [
       "Diabetes Study<br><table style=\"text-align:center\"><tr><td colspan=\"3\" style=\"border-bottom: 1px solid black\"></td></tr>\n",
       "<tr><td style=\"text-align:left\"></td><td colspan=\"2\"><em>Dependent variable: target</em></td></tr><tr><td style=\"text-align:left\"></td><td colspan=\"2\">Test model name</td></tr>\n",
       "<tr><td colspan=\"3\" style=\"border-bottom: 1px solid black\"></td></tr>\n",
       "\n",
       "<tr><td style=\"text-align:left\">ABP</td><td>416.673<sup>***</sup></td><td>397.581<sup>***</sup></td></tr>\n",
       "<tr><td style=\"text-align:left\"></td><td>(69.495)</td><td>(70.870)</td></tr>\n",
       "<tr><td style=\"text-align:left\">Age</td><td>37.241<sup></sup></td><td>24.703<sup></sup></td></tr>\n",
       "<tr><td style=\"text-align:left\"></td><td>(64.117)</td><td>(65.411)</td></tr>\n",
       "<tr><td style=\"text-align:left\">BMI</td><td>787.182<sup>***</sup></td><td>789.744<sup>***</sup></td></tr>\n",
       "<tr><td style=\"text-align:left\"></td><td>(65.424)</td><td>(66.887)</td></tr>\n",
       "<tr><td style=\"text-align:left\">S1</td><td></td><td>197.848<sup></sup></td></tr>\n",
       "<tr><td style=\"text-align:left\"></td><td></td><td>(143.812)</td></tr>\n",
       "<tr><td style=\"text-align:left\">S2</td><td></td><td>-169.243<sup></sup></td></tr>\n",
       "<tr><td style=\"text-align:left\"></td><td></td><td>(142.744)</td></tr>\n",
       "<tr><td style=\"text-align:left\">Sex</td><td>-106.576<sup>*</sup></td><td>-82.862<sup></sup></td></tr>\n",
       "<tr><td style=\"text-align:left\"></td><td>(62.125)</td><td>(64.851)</td></tr>\n",
       "<tr><td style=\"text-align:left\">const</td><td>152.133<sup>***</sup></td><td>152.133<sup>***</sup></td></tr>\n",
       "<tr><td style=\"text-align:left\"></td><td>(2.853)</td><td>(2.853)</td></tr>\n",
       "\n",
       "<td colspan=\"3\" style=\"border-bottom: 1px solid black\"></td></tr>\n",
       "<tr><td style=\"text-align: left\">Observations</td><td>442</td><td>442</td></tr><tr><td style=\"text-align: left\">R<sup>2</sup></td><td>0.400</td><td>0.403</td></tr><tr><td style=\"text-align: left\">Adjusted R<sup>2</sup></td><td>0.395</td><td>0.395</td></tr><tr><td style=\"text-align: left\">Residual Std. Error</td><td>59.976 (df=437)</td><td>59.982 (df=435)</td></tr><tr><td style=\"text-align: left\">F Statistic</td><td>72.913<sup>***</sup> (df=4; 437)</td><td>48.915<sup>***</sup> (df=6; 435)</td></tr>\n",
       "<tr><td colspan=\"3\" style=\"border-bottom: 1px solid black\"></td></tr><tr><td style=\"text-align: left\">Note:</td><td colspan=\"2\" style=\"text-align: right\"><sup>*</sup>p&lt;0.1; <sup>**</sup>p&lt;0.05; <sup>***</sup>p&lt;0.01</td></tr></table>"
      ],
      "text/plain": [
       "<stargazer.stargazer.Stargazer at 0x7f35ef26fdd0>"
      ]
     },
     "execution_count": 8,
     "metadata": {},
     "output_type": "execute_result"
    }
   ],
   "source": [
    "stargazer.show_model_numbers(False)\n",
    "stargazer"
   ]
  },
  {
   "cell_type": "markdown",
   "metadata": {},
   "source": [
    "## Specify Significant Digits"
   ]
  },
  {
   "cell_type": "code",
   "execution_count": 9,
   "metadata": {},
   "outputs": [
    {
     "data": {
      "text/html": [
       "Diabetes Study<br><table style=\"text-align:center\"><tr><td colspan=\"3\" style=\"border-bottom: 1px solid black\"></td></tr>\n",
       "<tr><td style=\"text-align:left\"></td><td colspan=\"2\"><em>Dependent variable: target</em></td></tr><tr><td style=\"text-align:left\"></td><td colspan=\"2\">Test model name</td></tr>\n",
       "<tr><td colspan=\"3\" style=\"border-bottom: 1px solid black\"></td></tr>\n",
       "\n",
       "<tr><td style=\"text-align:left\">ABP</td><td>416.67<sup>***</sup></td><td>397.58<sup>***</sup></td></tr>\n",
       "<tr><td style=\"text-align:left\"></td><td>(69.49)</td><td>(70.87)</td></tr>\n",
       "<tr><td style=\"text-align:left\">Age</td><td>37.24<sup></sup></td><td>24.70<sup></sup></td></tr>\n",
       "<tr><td style=\"text-align:left\"></td><td>(64.12)</td><td>(65.41)</td></tr>\n",
       "<tr><td style=\"text-align:left\">BMI</td><td>787.18<sup>***</sup></td><td>789.74<sup>***</sup></td></tr>\n",
       "<tr><td style=\"text-align:left\"></td><td>(65.42)</td><td>(66.89)</td></tr>\n",
       "<tr><td style=\"text-align:left\">S1</td><td></td><td>197.85<sup></sup></td></tr>\n",
       "<tr><td style=\"text-align:left\"></td><td></td><td>(143.81)</td></tr>\n",
       "<tr><td style=\"text-align:left\">S2</td><td></td><td>-169.24<sup></sup></td></tr>\n",
       "<tr><td style=\"text-align:left\"></td><td></td><td>(142.74)</td></tr>\n",
       "<tr><td style=\"text-align:left\">Sex</td><td>-106.58<sup>*</sup></td><td>-82.86<sup></sup></td></tr>\n",
       "<tr><td style=\"text-align:left\"></td><td>(62.13)</td><td>(64.85)</td></tr>\n",
       "<tr><td style=\"text-align:left\">const</td><td>152.13<sup>***</sup></td><td>152.13<sup>***</sup></td></tr>\n",
       "<tr><td style=\"text-align:left\"></td><td>(2.85)</td><td>(2.85)</td></tr>\n",
       "\n",
       "<td colspan=\"3\" style=\"border-bottom: 1px solid black\"></td></tr>\n",
       "<tr><td style=\"text-align: left\">Observations</td><td>442</td><td>442</td></tr><tr><td style=\"text-align: left\">R<sup>2</sup></td><td>0.40</td><td>0.40</td></tr><tr><td style=\"text-align: left\">Adjusted R<sup>2</sup></td><td>0.39</td><td>0.39</td></tr><tr><td style=\"text-align: left\">Residual Std. Error</td><td>59.98 (df=437)</td><td>59.98 (df=435)</td></tr><tr><td style=\"text-align: left\">F Statistic</td><td>72.91<sup>***</sup> (df=4; 437)</td><td>48.91<sup>***</sup> (df=6; 435)</td></tr>\n",
       "<tr><td colspan=\"3\" style=\"border-bottom: 1px solid black\"></td></tr><tr><td style=\"text-align: left\">Note:</td><td colspan=\"2\" style=\"text-align: right\"><sup>*</sup>p&lt;0.1; <sup>**</sup>p&lt;0.05; <sup>***</sup>p&lt;0.01</td></tr></table>"
      ],
      "text/plain": [
       "<stargazer.stargazer.Stargazer at 0x7f35ef26fdd0>"
      ]
     },
     "execution_count": 9,
     "metadata": {},
     "output_type": "execute_result"
    }
   ],
   "source": [
    "stargazer.significant_digits(2)\n",
    "stargazer"
   ]
  },
  {
   "cell_type": "markdown",
   "metadata": {},
   "source": [
    "## Show Confidence Intervals Over Standard Errors"
   ]
  },
  {
   "cell_type": "code",
   "execution_count": 10,
   "metadata": {},
   "outputs": [
    {
     "data": {
      "text/html": [
       "Diabetes Study<br><table style=\"text-align:center\"><tr><td colspan=\"3\" style=\"border-bottom: 1px solid black\"></td></tr>\n",
       "<tr><td style=\"text-align:left\"></td><td colspan=\"2\"><em>Dependent variable: target</em></td></tr><tr><td style=\"text-align:left\"></td><td colspan=\"2\">Test model name</td></tr>\n",
       "<tr><td colspan=\"3\" style=\"border-bottom: 1px solid black\"></td></tr>\n",
       "\n",
       "<tr><td style=\"text-align:left\">ABP</td><td>416.67<sup>***</sup></td><td>397.58<sup>***</sup></td></tr>\n",
       "<tr><td style=\"text-align:left\"></td><td>(280.09 , 553.26)</td><td>(258.29 , 536.87)</td></tr>\n",
       "<tr><td style=\"text-align:left\">Age</td><td>37.24<sup></sup></td><td>24.70<sup></sup></td></tr>\n",
       "<tr><td style=\"text-align:left\"></td><td>(-88.78 , 163.26)</td><td>(-103.86 , 153.26)</td></tr>\n",
       "<tr><td style=\"text-align:left\">BMI</td><td>787.18<sup>***</sup></td><td>789.74<sup>***</sup></td></tr>\n",
       "<tr><td style=\"text-align:left\"></td><td>(658.60 , 915.77)</td><td>(658.28 , 921.20)</td></tr>\n",
       "<tr><td style=\"text-align:left\">S1</td><td></td><td>197.85<sup></sup></td></tr>\n",
       "<tr><td style=\"text-align:left\"></td><td></td><td>(-84.81 , 480.50)</td></tr>\n",
       "<tr><td style=\"text-align:left\">S2</td><td></td><td>-169.24<sup></sup></td></tr>\n",
       "<tr><td style=\"text-align:left\"></td><td></td><td>(-449.80 , 111.31)</td></tr>\n",
       "<tr><td style=\"text-align:left\">Sex</td><td>-106.58<sup>*</sup></td><td>-82.86<sup></sup></td></tr>\n",
       "<tr><td style=\"text-align:left\"></td><td>(-228.68 , 15.52)</td><td>(-210.32 , 44.60)</td></tr>\n",
       "<tr><td style=\"text-align:left\">const</td><td>152.13<sup>***</sup></td><td>152.13<sup>***</sup></td></tr>\n",
       "<tr><td style=\"text-align:left\"></td><td>(146.53 , 157.74)</td><td>(146.53 , 157.74)</td></tr>\n",
       "\n",
       "<td colspan=\"3\" style=\"border-bottom: 1px solid black\"></td></tr>\n",
       "<tr><td style=\"text-align: left\">Observations</td><td>442</td><td>442</td></tr><tr><td style=\"text-align: left\">R<sup>2</sup></td><td>0.40</td><td>0.40</td></tr><tr><td style=\"text-align: left\">Adjusted R<sup>2</sup></td><td>0.39</td><td>0.39</td></tr><tr><td style=\"text-align: left\">Residual Std. Error</td><td>59.98 (df=437)</td><td>59.98 (df=435)</td></tr><tr><td style=\"text-align: left\">F Statistic</td><td>72.91<sup>***</sup> (df=4; 437)</td><td>48.91<sup>***</sup> (df=6; 435)</td></tr>\n",
       "<tr><td colspan=\"3\" style=\"border-bottom: 1px solid black\"></td></tr><tr><td style=\"text-align: left\">Note:</td><td colspan=\"2\" style=\"text-align: right\"><sup>*</sup>p&lt;0.1; <sup>**</sup>p&lt;0.05; <sup>***</sup>p&lt;0.01</td></tr></table>"
      ],
      "text/plain": [
       "<stargazer.stargazer.Stargazer at 0x7f35ef26fdd0>"
      ]
     },
     "execution_count": 10,
     "metadata": {},
     "output_type": "execute_result"
    }
   ],
   "source": [
    "stargazer.show_confidence_intervals(True)\n",
    "stargazer"
   ]
  },
  {
   "cell_type": "markdown",
   "metadata": {},
   "source": [
    "## Subset Covariates and/or Choose Covariate Order"
   ]
  },
  {
   "cell_type": "code",
   "execution_count": 11,
   "metadata": {},
   "outputs": [
    {
     "data": {
      "text/html": [
       "Diabetes Study<br><table style=\"text-align:center\"><tr><td colspan=\"3\" style=\"border-bottom: 1px solid black\"></td></tr>\n",
       "<tr><td style=\"text-align:left\"></td><td colspan=\"2\"><em>Dependent variable: target</em></td></tr><tr><td style=\"text-align:left\"></td><td colspan=\"2\">Test model name</td></tr>\n",
       "<tr><td colspan=\"3\" style=\"border-bottom: 1px solid black\"></td></tr>\n",
       "\n",
       "<tr><td style=\"text-align:left\">BMI</td><td>787.18<sup>***</sup></td><td>789.74<sup>***</sup></td></tr>\n",
       "<tr><td style=\"text-align:left\"></td><td>(658.60 , 915.77)</td><td>(658.28 , 921.20)</td></tr>\n",
       "<tr><td style=\"text-align:left\">Age</td><td>37.24<sup></sup></td><td>24.70<sup></sup></td></tr>\n",
       "<tr><td style=\"text-align:left\"></td><td>(-88.78 , 163.26)</td><td>(-103.86 , 153.26)</td></tr>\n",
       "<tr><td style=\"text-align:left\">S1</td><td></td><td>197.85<sup></sup></td></tr>\n",
       "<tr><td style=\"text-align:left\"></td><td></td><td>(-84.81 , 480.50)</td></tr>\n",
       "<tr><td style=\"text-align:left\">Sex</td><td>-106.58<sup>*</sup></td><td>-82.86<sup></sup></td></tr>\n",
       "<tr><td style=\"text-align:left\"></td><td>(-228.68 , 15.52)</td><td>(-210.32 , 44.60)</td></tr>\n",
       "\n",
       "<td colspan=\"3\" style=\"border-bottom: 1px solid black\"></td></tr>\n",
       "<tr><td style=\"text-align: left\">Observations</td><td>442</td><td>442</td></tr><tr><td style=\"text-align: left\">R<sup>2</sup></td><td>0.40</td><td>0.40</td></tr><tr><td style=\"text-align: left\">Adjusted R<sup>2</sup></td><td>0.39</td><td>0.39</td></tr><tr><td style=\"text-align: left\">Residual Std. Error</td><td>59.98 (df=437)</td><td>59.98 (df=435)</td></tr><tr><td style=\"text-align: left\">F Statistic</td><td>72.91<sup>***</sup> (df=4; 437)</td><td>48.91<sup>***</sup> (df=6; 435)</td></tr>\n",
       "<tr><td colspan=\"3\" style=\"border-bottom: 1px solid black\"></td></tr><tr><td style=\"text-align: left\">Note:</td><td colspan=\"2\" style=\"text-align: right\"><sup>*</sup>p&lt;0.1; <sup>**</sup>p&lt;0.05; <sup>***</sup>p&lt;0.01</td></tr></table>"
      ],
      "text/plain": [
       "<stargazer.stargazer.Stargazer at 0x7f35ef26fdd0>"
      ]
     },
     "execution_count": 11,
     "metadata": {},
     "output_type": "execute_result"
    }
   ],
   "source": [
    "stargazer.covariate_order(['BMI', 'Age', 'S1', 'Sex'])\n",
    "stargazer"
   ]
  },
  {
   "cell_type": "markdown",
   "metadata": {},
   "source": [
    "## Rename Covariates"
   ]
  },
  {
   "cell_type": "code",
   "execution_count": 12,
   "metadata": {},
   "outputs": [
    {
     "data": {
      "text/html": [
       "Diabetes Study<br><table style=\"text-align:center\"><tr><td colspan=\"3\" style=\"border-bottom: 1px solid black\"></td></tr>\n",
       "<tr><td style=\"text-align:left\"></td><td colspan=\"2\"><em>Dependent variable: target</em></td></tr><tr><td style=\"text-align:left\"></td><td colspan=\"2\">Test model name</td></tr>\n",
       "<tr><td colspan=\"3\" style=\"border-bottom: 1px solid black\"></td></tr>\n",
       "\n",
       "<tr><td style=\"text-align:left\">BMI</td><td>787.18<sup>***</sup></td><td>789.74<sup>***</sup></td></tr>\n",
       "<tr><td style=\"text-align:left\"></td><td>(658.60 , 915.77)</td><td>(658.28 , 921.20)</td></tr>\n",
       "<tr><td style=\"text-align:left\">Oldness</td><td>37.24<sup></sup></td><td>24.70<sup></sup></td></tr>\n",
       "<tr><td style=\"text-align:left\"></td><td>(-88.78 , 163.26)</td><td>(-103.86 , 153.26)</td></tr>\n",
       "<tr><td style=\"text-align:left\">S1</td><td></td><td>197.85<sup></sup></td></tr>\n",
       "<tr><td style=\"text-align:left\"></td><td></td><td>(-84.81 , 480.50)</td></tr>\n",
       "<tr><td style=\"text-align:left\">Sex</td><td>-106.58<sup>*</sup></td><td>-82.86<sup></sup></td></tr>\n",
       "<tr><td style=\"text-align:left\"></td><td>(-228.68 , 15.52)</td><td>(-210.32 , 44.60)</td></tr>\n",
       "\n",
       "<td colspan=\"3\" style=\"border-bottom: 1px solid black\"></td></tr>\n",
       "<tr><td style=\"text-align: left\">Observations</td><td>442</td><td>442</td></tr><tr><td style=\"text-align: left\">R<sup>2</sup></td><td>0.40</td><td>0.40</td></tr><tr><td style=\"text-align: left\">Adjusted R<sup>2</sup></td><td>0.39</td><td>0.39</td></tr><tr><td style=\"text-align: left\">Residual Std. Error</td><td>59.98 (df=437)</td><td>59.98 (df=435)</td></tr><tr><td style=\"text-align: left\">F Statistic</td><td>72.91<sup>***</sup> (df=4; 437)</td><td>48.91<sup>***</sup> (df=6; 435)</td></tr>\n",
       "<tr><td colspan=\"3\" style=\"border-bottom: 1px solid black\"></td></tr><tr><td style=\"text-align: left\">Note:</td><td colspan=\"2\" style=\"text-align: right\"><sup>*</sup>p&lt;0.1; <sup>**</sup>p&lt;0.05; <sup>***</sup>p&lt;0.01</td></tr></table>"
      ],
      "text/plain": [
       "<stargazer.stargazer.Stargazer at 0x7f35ef26fdd0>"
      ]
     },
     "execution_count": 12,
     "metadata": {},
     "output_type": "execute_result"
    }
   ],
   "source": [
    "stargazer.rename_covariates({'Age': 'Oldness'})\n",
    "stargazer"
   ]
  },
  {
   "cell_type": "markdown",
   "metadata": {},
   "source": [
    "... with a function"
   ]
  },
  {
   "cell_type": "code",
   "execution_count": 13,
   "metadata": {},
   "outputs": [
    {
     "data": {
      "text/html": [
       "Diabetes Study<br><table style=\"text-align:center\"><tr><td colspan=\"3\" style=\"border-bottom: 1px solid black\"></td></tr>\n",
       "<tr><td style=\"text-align:left\"></td><td colspan=\"2\"><em>Dependent variable: target</em></td></tr><tr><td style=\"text-align:left\"></td><td colspan=\"2\">Test model name</td></tr>\n",
       "<tr><td colspan=\"3\" style=\"border-bottom: 1px solid black\"></td></tr>\n",
       "\n",
       "<tr><td style=\"text-align:left\">BMI</td><td>787.18<sup>***</sup></td><td>789.74<sup>***</sup></td></tr>\n",
       "<tr><td style=\"text-align:left\"></td><td>(658.60 , 915.77)</td><td>(658.28 , 921.20)</td></tr>\n",
       "<tr><td style=\"text-align:left\">Years lived</td><td>37.24<sup></sup></td><td>24.70<sup></sup></td></tr>\n",
       "<tr><td style=\"text-align:left\"></td><td>(-88.78 , 163.26)</td><td>(-103.86 , 153.26)</td></tr>\n",
       "<tr><td style=\"text-align:left\">S1</td><td></td><td>197.85<sup></sup></td></tr>\n",
       "<tr><td style=\"text-align:left\"></td><td></td><td>(-84.81 , 480.50)</td></tr>\n",
       "<tr><td style=\"text-align:left\">Sex</td><td>-106.58<sup>*</sup></td><td>-82.86<sup></sup></td></tr>\n",
       "<tr><td style=\"text-align:left\"></td><td>(-228.68 , 15.52)</td><td>(-210.32 , 44.60)</td></tr>\n",
       "\n",
       "<td colspan=\"3\" style=\"border-bottom: 1px solid black\"></td></tr>\n",
       "<tr><td style=\"text-align: left\">Observations</td><td>442</td><td>442</td></tr><tr><td style=\"text-align: left\">R<sup>2</sup></td><td>0.40</td><td>0.40</td></tr><tr><td style=\"text-align: left\">Adjusted R<sup>2</sup></td><td>0.39</td><td>0.39</td></tr><tr><td style=\"text-align: left\">Residual Std. Error</td><td>59.98 (df=437)</td><td>59.98 (df=435)</td></tr><tr><td style=\"text-align: left\">F Statistic</td><td>72.91<sup>***</sup> (df=4; 437)</td><td>48.91<sup>***</sup> (df=6; 435)</td></tr>\n",
       "<tr><td colspan=\"3\" style=\"border-bottom: 1px solid black\"></td></tr><tr><td style=\"text-align: left\">Note:</td><td colspan=\"2\" style=\"text-align: right\"><sup>*</sup>p&lt;0.1; <sup>**</sup>p&lt;0.05; <sup>***</sup>p&lt;0.01</td></tr></table>"
      ],
      "text/plain": [
       "<stargazer.stargazer.Stargazer at 0x7f35ef26fdd0>"
      ]
     },
     "execution_count": 13,
     "metadata": {},
     "output_type": "execute_result"
    }
   ],
   "source": [
    "stargazer.rename_covariates(lambda x : 'Years lived' if x == 'Age' else x\n",
    "                           )\n",
    "stargazer"
   ]
  },
  {
   "cell_type": "markdown",
   "metadata": {},
   "source": [
    "... with format-specific versions:"
   ]
  },
  {
   "cell_type": "code",
   "execution_count": 14,
   "metadata": {},
   "outputs": [],
   "source": [
    "from stargazer.stargazer import Label"
   ]
  },
  {
   "cell_type": "code",
   "execution_count": 15,
   "metadata": {},
   "outputs": [
    {
     "data": {
      "text/html": [
       "Diabetes Study<br><table style=\"text-align:center\"><tr><td colspan=\"3\" style=\"border-bottom: 1px solid black\"></td></tr>\n",
       "<tr><td style=\"text-align:left\"></td><td colspan=\"2\"><em>Dependent variable: target</em></td></tr><tr><td style=\"text-align:left\"></td><td colspan=\"2\">Test model name</td></tr>\n",
       "<tr><td colspan=\"3\" style=\"border-bottom: 1px solid black\"></td></tr>\n",
       "\n",
       "<tr><td style=\"text-align:left\">BMI</td><td>787.18<sup>***</sup></td><td>789.74<sup>***</sup></td></tr>\n",
       "<tr><td style=\"text-align:left\"></td><td>(658.60 , 915.77)</td><td>(658.28 , 921.20)</td></tr>\n",
       "<tr><td style=\"text-align:left\">Age</td><td>37.24<sup></sup></td><td>24.70<sup></sup></td></tr>\n",
       "<tr><td style=\"text-align:left\"></td><td>(-88.78 , 163.26)</td><td>(-103.86 , 153.26)</td></tr>\n",
       "<tr><td style=\"text-align:left\">S<sub>1</sub></td><td></td><td>197.85<sup></sup></td></tr>\n",
       "<tr><td style=\"text-align:left\"></td><td></td><td>(-84.81 , 480.50)</td></tr>\n",
       "<tr><td style=\"text-align:left\">Sex</td><td>-106.58<sup>*</sup></td><td>-82.86<sup></sup></td></tr>\n",
       "<tr><td style=\"text-align:left\"></td><td>(-228.68 , 15.52)</td><td>(-210.32 , 44.60)</td></tr>\n",
       "\n",
       "<td colspan=\"3\" style=\"border-bottom: 1px solid black\"></td></tr>\n",
       "<tr><td style=\"text-align: left\">Observations</td><td>442</td><td>442</td></tr><tr><td style=\"text-align: left\">R<sup>2</sup></td><td>0.40</td><td>0.40</td></tr><tr><td style=\"text-align: left\">Adjusted R<sup>2</sup></td><td>0.39</td><td>0.39</td></tr><tr><td style=\"text-align: left\">Residual Std. Error</td><td>59.98 (df=437)</td><td>59.98 (df=435)</td></tr><tr><td style=\"text-align: left\">F Statistic</td><td>72.91<sup>***</sup> (df=4; 437)</td><td>48.91<sup>***</sup> (df=6; 435)</td></tr>\n",
       "<tr><td colspan=\"3\" style=\"border-bottom: 1px solid black\"></td></tr><tr><td style=\"text-align: left\">Note:</td><td colspan=\"2\" style=\"text-align: right\"><sup>*</sup>p&lt;0.1; <sup>**</sup>p&lt;0.05; <sup>***</sup>p&lt;0.01</td></tr></table>"
      ],
      "text/plain": [
       "<stargazer.stargazer.Stargazer at 0x7f35ef26fdd0>"
      ]
     },
     "execution_count": 15,
     "metadata": {},
     "output_type": "execute_result"
    }
   ],
   "source": [
    "stargazer.rename_covariates({\n",
    "                             'S1' : Label({'html' : 'S<sub>1</sub>',\n",
    "                                           'LaTeX' : 'S_1'})\n",
    "                            }\n",
    "                           )\n",
    "stargazer"
   ]
  },
  {
   "cell_type": "markdown",
   "metadata": {},
   "source": [
    "## Hide/Show Degrees of Freedom"
   ]
  },
  {
   "cell_type": "code",
   "execution_count": 16,
   "metadata": {},
   "outputs": [
    {
     "data": {
      "text/html": [
       "Diabetes Study<br><table style=\"text-align:center\"><tr><td colspan=\"3\" style=\"border-bottom: 1px solid black\"></td></tr>\n",
       "<tr><td style=\"text-align:left\"></td><td colspan=\"2\"><em>Dependent variable: target</em></td></tr><tr><td style=\"text-align:left\"></td><td colspan=\"2\">Test model name</td></tr>\n",
       "<tr><td colspan=\"3\" style=\"border-bottom: 1px solid black\"></td></tr>\n",
       "\n",
       "<tr><td style=\"text-align:left\">BMI</td><td>787.18<sup>***</sup></td><td>789.74<sup>***</sup></td></tr>\n",
       "<tr><td style=\"text-align:left\"></td><td>(658.60 , 915.77)</td><td>(658.28 , 921.20)</td></tr>\n",
       "<tr><td style=\"text-align:left\">Age</td><td>37.24<sup></sup></td><td>24.70<sup></sup></td></tr>\n",
       "<tr><td style=\"text-align:left\"></td><td>(-88.78 , 163.26)</td><td>(-103.86 , 153.26)</td></tr>\n",
       "<tr><td style=\"text-align:left\">S<sub>1</sub></td><td></td><td>197.85<sup></sup></td></tr>\n",
       "<tr><td style=\"text-align:left\"></td><td></td><td>(-84.81 , 480.50)</td></tr>\n",
       "<tr><td style=\"text-align:left\">Sex</td><td>-106.58<sup>*</sup></td><td>-82.86<sup></sup></td></tr>\n",
       "<tr><td style=\"text-align:left\"></td><td>(-228.68 , 15.52)</td><td>(-210.32 , 44.60)</td></tr>\n",
       "\n",
       "<td colspan=\"3\" style=\"border-bottom: 1px solid black\"></td></tr>\n",
       "<tr><td style=\"text-align: left\">Observations</td><td>442</td><td>442</td></tr><tr><td style=\"text-align: left\">R<sup>2</sup></td><td>0.40</td><td>0.40</td></tr><tr><td style=\"text-align: left\">Adjusted R<sup>2</sup></td><td>0.39</td><td>0.39</td></tr><tr><td style=\"text-align: left\">Residual Std. Error</td><td>59.98</td><td>59.98</td></tr><tr><td style=\"text-align: left\">F Statistic</td><td>72.91<sup>***</sup></td><td>48.91<sup>***</sup></td></tr>\n",
       "<tr><td colspan=\"3\" style=\"border-bottom: 1px solid black\"></td></tr><tr><td style=\"text-align: left\">Note:</td><td colspan=\"2\" style=\"text-align: right\"><sup>*</sup>p&lt;0.1; <sup>**</sup>p&lt;0.05; <sup>***</sup>p&lt;0.01</td></tr></table>"
      ],
      "text/plain": [
       "<stargazer.stargazer.Stargazer at 0x7f35ef26fdd0>"
      ]
     },
     "execution_count": 16,
     "metadata": {},
     "output_type": "execute_result"
    }
   ],
   "source": [
    "stargazer.show_degrees_of_freedom(False)\n",
    "stargazer"
   ]
  },
  {
   "cell_type": "markdown",
   "metadata": {},
   "source": [
    "## Show Custom Notes"
   ]
  },
  {
   "cell_type": "code",
   "execution_count": 17,
   "metadata": {
    "pycharm": {
     "name": "#%%\n"
    }
   },
   "outputs": [
    {
     "data": {
      "text/html": [
       "Diabetes Study<br><table style=\"text-align:center\"><tr><td colspan=\"3\" style=\"border-bottom: 1px solid black\"></td></tr>\n",
       "<tr><td style=\"text-align:left\"></td><td colspan=\"2\"><em>Dependent variable: target</em></td></tr><tr><td style=\"text-align:left\"></td><td colspan=\"2\">Test model name</td></tr>\n",
       "<tr><td colspan=\"3\" style=\"border-bottom: 1px solid black\"></td></tr>\n",
       "\n",
       "<tr><td style=\"text-align:left\">BMI</td><td>787.18<sup>***</sup></td><td>789.74<sup>***</sup></td></tr>\n",
       "<tr><td style=\"text-align:left\"></td><td>(658.60 , 915.77)</td><td>(658.28 , 921.20)</td></tr>\n",
       "<tr><td style=\"text-align:left\">Age</td><td>37.24<sup></sup></td><td>24.70<sup></sup></td></tr>\n",
       "<tr><td style=\"text-align:left\"></td><td>(-88.78 , 163.26)</td><td>(-103.86 , 153.26)</td></tr>\n",
       "<tr><td style=\"text-align:left\">S<sub>1</sub></td><td></td><td>197.85<sup></sup></td></tr>\n",
       "<tr><td style=\"text-align:left\"></td><td></td><td>(-84.81 , 480.50)</td></tr>\n",
       "<tr><td style=\"text-align:left\">Sex</td><td>-106.58<sup>*</sup></td><td>-82.86<sup></sup></td></tr>\n",
       "<tr><td style=\"text-align:left\"></td><td>(-228.68 , 15.52)</td><td>(-210.32 , 44.60)</td></tr>\n",
       "\n",
       "<td colspan=\"3\" style=\"border-bottom: 1px solid black\"></td></tr>\n",
       "<tr><td style=\"text-align: left\">Observations</td><td>442</td><td>442</td></tr><tr><td style=\"text-align: left\">R<sup>2</sup></td><td>0.40</td><td>0.40</td></tr><tr><td style=\"text-align: left\">Adjusted R<sup>2</sup></td><td>0.39</td><td>0.39</td></tr><tr><td style=\"text-align: left\">Residual Std. Error</td><td>59.98</td><td>59.98</td></tr><tr><td style=\"text-align: left\">F Statistic</td><td>72.91<sup>***</sup></td><td>48.91<sup>***</sup></td></tr>\n",
       "<tr><td colspan=\"3\" style=\"border-bottom: 1px solid black\"></td></tr><tr><td style=\"text-align: left\">Note:</td><td colspan=\"2\" style=\"text-align: right\"><sup>*</sup>p&lt;0.1; <sup>**</sup>p&lt;0.05; <sup>***</sup>p&lt;0.01</td></tr><tr><td colspan=\"3\" style=\"text-align: right\">First note</td></tr><tr><td colspan=\"3\" style=\"text-align: right\">Second note</td></tr></table>"
      ],
      "text/plain": [
       "<stargazer.stargazer.Stargazer at 0x7f35ef26fdd0>"
      ]
     },
     "execution_count": 17,
     "metadata": {},
     "output_type": "execute_result"
    }
   ],
   "source": [
    "stargazer.add_custom_notes(['First note', 'Second note'])\n",
    "stargazer"
   ]
  },
  {
   "cell_type": "markdown",
   "metadata": {},
   "source": [
    "## Add Custom Lines"
   ]
  },
  {
   "cell_type": "code",
   "execution_count": 18,
   "metadata": {},
   "outputs": [
    {
     "data": {
      "text/html": [
       "Diabetes Study<br><table style=\"text-align:center\"><tr><td colspan=\"3\" style=\"border-bottom: 1px solid black\"></td></tr>\n",
       "<tr><td style=\"text-align:left\"></td><td colspan=\"2\"><em>Dependent variable: target</em></td></tr><tr><td style=\"text-align:left\"></td><td colspan=\"2\">Test model name</td></tr>\n",
       "<tr><td style=\"text-align: left\">Robust</td><td>No</td><td>Yes</td></tr><tr><td colspan=\"3\" style=\"border-bottom: 1px solid black\"></td></tr>\n",
       "\n",
       "<tr><td style=\"text-align:left\">BMI</td><td>787.18<sup>***</sup></td><td>789.74<sup>***</sup></td></tr>\n",
       "<tr><td style=\"text-align:left\"></td><td>(658.60 , 915.77)</td><td>(658.28 , 921.20)</td></tr>\n",
       "<tr><td style=\"text-align:left\">Age</td><td>37.24<sup></sup></td><td>24.70<sup></sup></td></tr>\n",
       "<tr><td style=\"text-align:left\"></td><td>(-88.78 , 163.26)</td><td>(-103.86 , 153.26)</td></tr>\n",
       "<tr><td style=\"text-align:left\">S<sub>1</sub></td><td></td><td>197.85<sup></sup></td></tr>\n",
       "<tr><td style=\"text-align:left\"></td><td></td><td>(-84.81 , 480.50)</td></tr>\n",
       "<tr><td style=\"text-align:left\">Sex</td><td>-106.58<sup>*</sup></td><td>-82.86<sup></sup></td></tr>\n",
       "<tr><td style=\"text-align:left\"></td><td>(-228.68 , 15.52)</td><td>(-210.32 , 44.60)</td></tr>\n",
       "\n",
       "<tr><td style=\"text-align: left\">More controls</td><td>No</td><td>No</td></tr><td colspan=\"3\" style=\"border-bottom: 1px solid black\"></td></tr>\n",
       "<tr><td style=\"text-align: left\">Preferred</td><td>No</td><td>Yes</td></tr><tr><td style=\"text-align: left\">Observations</td><td>442</td><td>442</td></tr><tr><td style=\"text-align: left\">R<sup>2</sup></td><td>0.40</td><td>0.40</td></tr><tr><td style=\"text-align: left\">Adjusted R<sup>2</sup></td><td>0.39</td><td>0.39</td></tr><tr><td style=\"text-align: left\">Residual Std. Error</td><td>59.98</td><td>59.98</td></tr><tr><td style=\"text-align: left\">F Statistic</td><td>72.91<sup>***</sup></td><td>48.91<sup>***</sup></td></tr>\n",
       "<tr><td style=\"text-align: left\">Largest R<sup>2</sup></td><td>Yes</td><td>Yes</td></tr><tr><td colspan=\"3\" style=\"border-bottom: 1px solid black\"></td></tr><tr><td style=\"text-align: left\">Note:</td><td colspan=\"2\" style=\"text-align: right\"><sup>*</sup>p&lt;0.1; <sup>**</sup>p&lt;0.05; <sup>***</sup>p&lt;0.01</td></tr><tr><td colspan=\"3\" style=\"text-align: right\">First note</td></tr><tr><td colspan=\"3\" style=\"text-align: right\">Second note</td></tr></table>"
      ],
      "text/plain": [
       "<stargazer.stargazer.Stargazer at 0x7f35ef26fdd0>"
      ]
     },
     "execution_count": 18,
     "metadata": {},
     "output_type": "execute_result"
    }
   ],
   "source": [
    "stargazer.add_line('More controls', ['No', 'No'])\n",
    "stargazer.add_line('Robust', ['No', 'Yes'], LineLocation.HEADER_BOTTOM)\n",
    "stargazer.add_line('Preferred', ['No', 'Yes'], LineLocation.FOOTER_TOP)\n",
    "# Use a format-specific Label:\n",
    "stargazer.add_line(Label({'html' : 'Largest R<sup>2</sup>',\n",
    "                          'LaTeX' : 'Largest $R^2$'}),\n",
    "                   ['Yes', 'Yes'],\n",
    "                   LineLocation.FOOTER_BOTTOM\n",
    "                  )\n",
    "stargazer"
   ]
  },
  {
   "cell_type": "markdown",
   "metadata": {},
   "source": [
    "## Change Statistical Significance Cutoffs"
   ]
  },
  {
   "cell_type": "code",
   "execution_count": 19,
   "metadata": {},
   "outputs": [
    {
     "data": {
      "text/html": [
       "Diabetes Study<br><table style=\"text-align:center\"><tr><td colspan=\"3\" style=\"border-bottom: 1px solid black\"></td></tr>\n",
       "<tr><td style=\"text-align:left\"></td><td colspan=\"2\"><em>Dependent variable: target</em></td></tr><tr><td style=\"text-align:left\"></td><td colspan=\"2\">Test model name</td></tr>\n",
       "<tr><td style=\"text-align: left\">Robust</td><td>No</td><td>Yes</td></tr><tr><td colspan=\"3\" style=\"border-bottom: 1px solid black\"></td></tr>\n",
       "\n",
       "<tr><td style=\"text-align:left\">BMI</td><td>787.18<sup>***</sup></td><td>789.74<sup>***</sup></td></tr>\n",
       "<tr><td style=\"text-align:left\"></td><td>(658.60 , 915.77)</td><td>(658.28 , 921.20)</td></tr>\n",
       "<tr><td style=\"text-align:left\">Age</td><td>37.24<sup></sup></td><td>24.70<sup></sup></td></tr>\n",
       "<tr><td style=\"text-align:left\"></td><td>(-88.78 , 163.26)</td><td>(-103.86 , 153.26)</td></tr>\n",
       "<tr><td style=\"text-align:left\">S<sub>1</sub></td><td></td><td>197.85<sup></sup></td></tr>\n",
       "<tr><td style=\"text-align:left\"></td><td></td><td>(-84.81 , 480.50)</td></tr>\n",
       "<tr><td style=\"text-align:left\">Sex</td><td>-106.58<sup>*</sup></td><td>-82.86<sup></sup></td></tr>\n",
       "<tr><td style=\"text-align:left\"></td><td>(-228.68 , 15.52)</td><td>(-210.32 , 44.60)</td></tr>\n",
       "\n",
       "<tr><td style=\"text-align: left\">More controls</td><td>No</td><td>No</td></tr><td colspan=\"3\" style=\"border-bottom: 1px solid black\"></td></tr>\n",
       "<tr><td style=\"text-align: left\">Preferred</td><td>No</td><td>Yes</td></tr><tr><td style=\"text-align: left\">Observations</td><td>442</td><td>442</td></tr><tr><td style=\"text-align: left\">R<sup>2</sup></td><td>0.40</td><td>0.40</td></tr><tr><td style=\"text-align: left\">Adjusted R<sup>2</sup></td><td>0.39</td><td>0.39</td></tr><tr><td style=\"text-align: left\">Residual Std. Error</td><td>59.98</td><td>59.98</td></tr><tr><td style=\"text-align: left\">F Statistic</td><td>72.91<sup>***</sup></td><td>48.91<sup>***</sup></td></tr>\n",
       "<tr><td style=\"text-align: left\">Largest R<sup>2</sup></td><td>Yes</td><td>Yes</td></tr><tr><td colspan=\"3\" style=\"border-bottom: 1px solid black\"></td></tr><tr><td style=\"text-align: left\">Note:</td><td colspan=\"2\" style=\"text-align: right\"><sup>*</sup>p&lt;0.1; <sup>**</sup>p&lt;0.07; <sup>***</sup>p&lt;0.05</td></tr><tr><td colspan=\"3\" style=\"text-align: right\">First note</td></tr><tr><td colspan=\"3\" style=\"text-align: right\">Second note</td></tr></table>"
      ],
      "text/plain": [
       "<stargazer.stargazer.Stargazer at 0x7f35ef26fdd0>"
      ]
     },
     "execution_count": 19,
     "metadata": {},
     "output_type": "execute_result"
    }
   ],
   "source": [
    "stargazer.significance_levels([0.1, 0.05, 0.07])\n",
    "stargazer"
   ]
  },
  {
   "cell_type": "markdown",
   "metadata": {},
   "source": [
    "## Don't Show Statistical Significance Levels In Notes"
   ]
  },
  {
   "cell_type": "code",
   "execution_count": 20,
   "metadata": {},
   "outputs": [
    {
     "data": {
      "text/html": [
       "Diabetes Study<br><table style=\"text-align:center\"><tr><td colspan=\"3\" style=\"border-bottom: 1px solid black\"></td></tr>\n",
       "<tr><td style=\"text-align:left\"></td><td colspan=\"2\"><em>Dependent variable: target</em></td></tr><tr><td style=\"text-align:left\"></td><td colspan=\"2\">Test model name</td></tr>\n",
       "<tr><td style=\"text-align: left\">Robust</td><td>No</td><td>Yes</td></tr><tr><td colspan=\"3\" style=\"border-bottom: 1px solid black\"></td></tr>\n",
       "\n",
       "<tr><td style=\"text-align:left\">BMI</td><td>787.18<sup>***</sup></td><td>789.74<sup>***</sup></td></tr>\n",
       "<tr><td style=\"text-align:left\"></td><td>(658.60 , 915.77)</td><td>(658.28 , 921.20)</td></tr>\n",
       "<tr><td style=\"text-align:left\">Age</td><td>37.24<sup></sup></td><td>24.70<sup></sup></td></tr>\n",
       "<tr><td style=\"text-align:left\"></td><td>(-88.78 , 163.26)</td><td>(-103.86 , 153.26)</td></tr>\n",
       "<tr><td style=\"text-align:left\">S<sub>1</sub></td><td></td><td>197.85<sup></sup></td></tr>\n",
       "<tr><td style=\"text-align:left\"></td><td></td><td>(-84.81 , 480.50)</td></tr>\n",
       "<tr><td style=\"text-align:left\">Sex</td><td>-106.58<sup>*</sup></td><td>-82.86<sup></sup></td></tr>\n",
       "<tr><td style=\"text-align:left\"></td><td>(-228.68 , 15.52)</td><td>(-210.32 , 44.60)</td></tr>\n",
       "\n",
       "<tr><td style=\"text-align: left\">More controls</td><td>No</td><td>No</td></tr><td colspan=\"3\" style=\"border-bottom: 1px solid black\"></td></tr>\n",
       "<tr><td style=\"text-align: left\">Preferred</td><td>No</td><td>Yes</td></tr><tr><td style=\"text-align: left\">Observations</td><td>442</td><td>442</td></tr><tr><td style=\"text-align: left\">R<sup>2</sup></td><td>0.40</td><td>0.40</td></tr><tr><td style=\"text-align: left\">Adjusted R<sup>2</sup></td><td>0.39</td><td>0.39</td></tr><tr><td style=\"text-align: left\">Residual Std. Error</td><td>59.98</td><td>59.98</td></tr><tr><td style=\"text-align: left\">F Statistic</td><td>72.91<sup>***</sup></td><td>48.91<sup>***</sup></td></tr>\n",
       "<tr><td style=\"text-align: left\">Largest R<sup>2</sup></td><td>Yes</td><td>Yes</td></tr><tr><td colspan=\"3\" style=\"border-bottom: 1px solid black\"></td></tr><tr><td style=\"text-align: left\">Note:</td></tr><td colspan=\"3\" style=\"text-align: right\">First note</td></tr><tr><td colspan=\"3\" style=\"text-align: right\">Second note</td></tr></table>"
      ],
      "text/plain": [
       "<stargazer.stargazer.Stargazer at 0x7f35ef26fdd0>"
      ]
     },
     "execution_count": 20,
     "metadata": {},
     "output_type": "execute_result"
    }
   ],
   "source": [
    "stargazer.append_notes(False)\n",
    "stargazer"
   ]
  },
  {
   "cell_type": "markdown",
   "metadata": {},
   "source": [
    "## Add spacing between rows"
   ]
  },
  {
   "cell_type": "code",
   "execution_count": 21,
   "metadata": {},
   "outputs": [
    {
     "data": {
      "text/html": [
       "Diabetes Study<br><table style=\"text-align:center\"><tr><td colspan=\"3\" style=\"border-bottom: 1px solid black\"></td></tr>\n",
       "<tr><td style=\"text-align:left\"></td><td colspan=\"2\"><em>Dependent variable: target</em></td></tr><tr><td style=\"text-align:left\"></td><td colspan=\"2\">Test model name</td></tr>\n",
       "<tr><td style=\"text-align: left\">Robust</td><td>No</td><td>Yes</td></tr><tr><td colspan=\"3\" style=\"border-bottom: 1px solid black\"></td></tr>\n",
       "\n",
       "<tr><td style=\"text-align:left\">BMI</td><td>787.18<sup>***</sup></td><td>789.74<sup>***</sup></td></tr>\n",
       "<tr><td style=\"text-align:left;padding-bottom:2em\"></td><td style=\"padding-bottom:2em\">(658.60 , 915.77)</td><td style=\"padding-bottom:2em\">(658.28 , 921.20)</td></tr>\n",
       "<tr><td style=\"text-align:left\">Age</td><td>37.24<sup></sup></td><td>24.70<sup></sup></td></tr>\n",
       "<tr><td style=\"text-align:left;padding-bottom:2em\"></td><td style=\"padding-bottom:2em\">(-88.78 , 163.26)</td><td style=\"padding-bottom:2em\">(-103.86 , 153.26)</td></tr>\n",
       "<tr><td style=\"text-align:left\">S<sub>1</sub></td><td></td><td>197.85<sup></sup></td></tr>\n",
       "<tr><td style=\"text-align:left;padding-bottom:2em\"></td><td style=\"padding-bottom:2em\"></td><td style=\"padding-bottom:2em\">(-84.81 , 480.50)</td></tr>\n",
       "<tr><td style=\"text-align:left\">Sex</td><td>-106.58<sup>*</sup></td><td>-82.86<sup></sup></td></tr>\n",
       "<tr><td style=\"text-align:left;padding-bottom:2em\"></td><td style=\"padding-bottom:2em\">(-228.68 , 15.52)</td><td style=\"padding-bottom:2em\">(-210.32 , 44.60)</td></tr>\n",
       "\n",
       "<tr><td style=\"text-align: left\">More controls</td><td>No</td><td>No</td></tr><td colspan=\"3\" style=\"border-bottom: 1px solid black\"></td></tr>\n",
       "<tr><td style=\"text-align: left\">Preferred</td><td>No</td><td>Yes</td></tr><tr><td style=\"text-align: left\">Observations</td><td>442</td><td>442</td></tr><tr><td style=\"text-align: left\">R<sup>2</sup></td><td>0.40</td><td>0.40</td></tr><tr><td style=\"text-align: left\">Adjusted R<sup>2</sup></td><td>0.39</td><td>0.39</td></tr><tr><td style=\"text-align: left\">Residual Std. Error</td><td>59.98</td><td>59.98</td></tr><tr><td style=\"text-align: left\">F Statistic</td><td>72.91<sup>***</sup></td><td>48.91<sup>***</sup></td></tr>\n",
       "<tr><td style=\"text-align: left\">Largest R<sup>2</sup></td><td>Yes</td><td>Yes</td></tr><tr><td colspan=\"3\" style=\"border-bottom: 1px solid black\"></td></tr><tr><td style=\"text-align: left\">Note:</td></tr><td colspan=\"3\" style=\"text-align: right\">First note</td></tr><tr><td colspan=\"3\" style=\"text-align: right\">Second note</td></tr></table>"
      ],
      "text/plain": [
       "<stargazer.stargazer.Stargazer at 0x7f35ef26fdd0>"
      ]
     },
     "execution_count": 21,
     "metadata": {},
     "output_type": "execute_result"
    }
   ],
   "source": [
    "stargazer.cov_spacing = 2\n",
    "stargazer"
   ]
  },
  {
   "cell_type": "markdown",
   "metadata": {},
   "source": [
    "## Display panel results from linearmodels"
   ]
  },
  {
   "cell_type": "markdown",
   "metadata": {},
   "source": [
    "### Panel"
   ]
  },
  {
   "cell_type": "code",
   "execution_count": 22,
   "metadata": {},
   "outputs": [
    {
     "data": {
      "text/html": [
       "<table style=\"text-align:center\"><tr><td colspan=\"4\" style=\"border-bottom: 1px solid black\"></td></tr>\n",
       "<tr><td style=\"text-align:left\"></td><td colspan=\"3\"><em>Dependent variable: lwage</em></td></tr><tr><td style=\"text-align:left\"></td><tr><td></td><td colspan=\"1\">Pooled</td><td colspan=\"1\">Random Effects</td><td colspan=\"1\">Fixed Effects</td></tr><tr><td style=\"text-align:left\"></td><td>(1)</td><td>(2)</td><td>(3)</td></tr>\n",
       "<tr><td colspan=\"4\" style=\"border-bottom: 1px solid black\"></td></tr>\n",
       "\n",
       "<tr><td style=\"text-align:left\">black</td><td>-0.144<sup>***</sup></td><td>-0.144<sup>***</sup></td><td></td></tr>\n",
       "<tr><td style=\"text-align:left\"></td><td>(0.024)</td><td>(0.048)</td><td></td></tr>\n",
       "<tr><td style=\"text-align:left\">hisp</td><td>0.016<sup></sup></td><td>0.020<sup></sup></td><td></td></tr>\n",
       "<tr><td style=\"text-align:left\"></td><td>(0.021)</td><td>(0.043)</td><td></td></tr>\n",
       "<tr><td style=\"text-align:left\">exper</td><td>0.089<sup>***</sup></td><td>0.112<sup>***</sup></td><td></td></tr>\n",
       "<tr><td style=\"text-align:left\"></td><td>(0.010)</td><td>(0.008)</td><td></td></tr>\n",
       "<tr><td style=\"text-align:left\">expersq</td><td>-0.003<sup>***</sup></td><td>-0.004<sup>***</sup></td><td>-0.005<sup>***</sup></td></tr>\n",
       "<tr><td style=\"text-align:left\"></td><td>(0.001)</td><td>(0.001)</td><td>(0.001)</td></tr>\n",
       "<tr><td style=\"text-align:left\">married</td><td>0.108<sup>***</sup></td><td>0.063<sup>***</sup></td><td>0.047<sup>**</sup></td></tr>\n",
       "<tr><td style=\"text-align:left\"></td><td>(0.016)</td><td>(0.017)</td><td>(0.018)</td></tr>\n",
       "<tr><td style=\"text-align:left\">educ</td><td>0.099<sup>***</sup></td><td>0.101<sup>***</sup></td><td></td></tr>\n",
       "<tr><td style=\"text-align:left\"></td><td>(0.005)</td><td>(0.009)</td><td></td></tr>\n",
       "<tr><td style=\"text-align:left\">union</td><td>0.180<sup>***</sup></td><td>0.107<sup>***</sup></td><td>0.080<sup>***</sup></td></tr>\n",
       "<tr><td style=\"text-align:left\"></td><td>(0.017)</td><td>(0.018)</td><td>(0.019)</td></tr>\n",
       "<tr><td style=\"text-align:left\">Intercept</td><td>-0.035<sup></sup></td><td>-0.107<sup></sup></td><td>1.871<sup>***</sup></td></tr>\n",
       "<tr><td style=\"text-align:left\"></td><td>(0.065)</td><td>(0.111)</td><td>(0.038)</td></tr>\n",
       "\n",
       "<tr><td style=\"text-align: left\">Time Effects</td><td>Yes</td><td>Yes</td><td>Yes</td></tr><tr><td style=\"text-align: left\">Fixed Effects</td><td>No</td><td>No</td><td>Yes</td></tr><td colspan=\"4\" style=\"border-bottom: 1px solid black\"></td></tr>\n",
       "<tr><td style=\"text-align: left\">Observations</td><td>4360</td><td>4360</td><td>4360</td></tr><tr><td style=\"text-align: left\">N. of groups</td><td>545</td><td>545</td><td>545</td></tr><tr><td style=\"text-align: left\">R<sup>2</sup></td><td>0.187</td><td>0.178</td><td>0.022</td></tr><tr><td style=\"text-align: left\">Within R<sup>2</sup></td><td>0.168</td><td>0.177</td><td>0.109</td></tr><tr><td style=\"text-align: left\">Residual Std. Error</td><td>0.230 (df=4352)</td><td>0.164 (df=4352)</td><td>0.052 (df=3805)</td></tr><tr><td style=\"text-align: left\">F Statistic</td><td>142.613<sup>***</sup> (df=8; 4352)</td><td>134.851<sup>***</sup> (df=8; 4352)</td><td>27.959<sup>***</sup> (df=555; 3805)</td></tr>\n",
       "<tr><td colspan=\"4\" style=\"border-bottom: 1px solid black\"></td></tr><tr><td style=\"text-align: left\">Note:</td><td colspan=\"3\" style=\"text-align: right\"><sup>*</sup>p&lt;0.1; <sup>**</sup>p&lt;0.05; <sup>***</sup>p&lt;0.01</td></tr></table>"
      ],
      "text/plain": [
       "<stargazer.stargazer.Stargazer at 0x7fd12dc4b390>"
      ]
     },
     "execution_count": 24,
     "metadata": {},
     "output_type": "execute_result"
    }
   ],
   "source": [
    "from linearmodels.panel import PanelOLS, RandomEffects, PooledOLS\n",
    "from linearmodels.datasets import wage_panel\n",
    "\n",
    "dfp = wage_panel.load().set_index([\"nr\", \"year\"])\n",
    "\n",
    "pest = PooledOLS.from_formula('lwage  ~ 1 + black + hisp + exper + expersq + married + educ + union + TimeEffects', data=dfp).fit()\n",
    "rest = RandomEffects.from_formula('lwage  ~ 1 + black + hisp + exper + expersq + married + educ + union + TimeEffects', data=dfp).fit()\n",
    "fest = PanelOLS.from_formula('lwage  ~ 1 + expersq + union + married + TimeEffects + EntityEffects', data=dfp).fit()\n",
    "\n",
    "models=[pest, rest, fest]\n",
    "panel_res = Stargazer(models)\n",
    "panel_res.custom_columns(['Pooled', 'Random Effects', 'Fixed Effects'])\n",
    "panel_res.covariate_order(['black', 'hisp', 'exper', 'expersq', 'married', 'educ', 'union', 'Intercept'])\n",
    "panel_res.add_line('Time Effects', ['Yes', 'Yes', 'Yes'])\n",
    "panel_res.add_line('Fixed Effects', ['No', 'No', 'Yes'])\n",
    "\n",
    "# Within R² is off by default:\n",
    "panel_res.show_within_r2 = True\n",
    "\n",
    "panel_res"
   ]
  },
  {
   "cell_type": "markdown",
   "metadata": {},
   "source": [
    "### IV"
   ]
  },
  {
   "cell_type": "code",
   "execution_count": 6,
   "metadata": {},
   "outputs": [
    {
     "data": {
      "text/html": [
       "<table style=\"text-align:center\"><tr><td colspan=\"4\" style=\"border-bottom: 1px solid black\"></td></tr>\n",
       "<tr><td style=\"text-align:left\"></td><tr><td></td><td colspan=\"1\">OLS</td><td colspan=\"1\">OLS</td><td colspan=\"1\">IV</td></tr><tr><td style=\"text-align:left\"></td><td>(1)</td><td>(2)</td><td>(3)</td></tr>\n",
       "<tr><td colspan=\"4\" style=\"border-bottom: 1px solid black\"></td></tr>\n",
       "\n",
       "<tr><td style=\"text-align:left\">Intercept</td><td>5.861<sup>***</sup></td><td>5.861<sup>***</sup></td><td>6.771<sup>***</sup></td></tr>\n",
       "<tr><td style=\"text-align:left\"></td><td>(0.157)</td><td>(0.157)</td><td>(0.257)</td></tr>\n",
       "<tr><td style=\"text-align:left\">age</td><td>-0.004<sup>*</sup></td><td>-0.004<sup>*</sup></td><td>-0.013<sup>***</sup></td></tr>\n",
       "<tr><td style=\"text-align:left\"></td><td>(0.002)</td><td>(0.002)</td><td>(0.003)</td></tr>\n",
       "<tr><td style=\"text-align:left\">blhisp</td><td>-0.151<sup>***</sup></td><td>-0.151<sup>***</sup></td><td>-0.217<sup>***</sup></td></tr>\n",
       "<tr><td style=\"text-align:left\"></td><td>(0.034)</td><td>(0.034)</td><td>(0.039)</td></tr>\n",
       "<tr><td style=\"text-align:left\">female</td><td>0.058<sup>**</sup></td><td>0.058<sup>**</sup></td><td></td></tr>\n",
       "<tr><td style=\"text-align:left\"></td><td>(0.025)</td><td>(0.025)</td><td></td></tr>\n",
       "<tr><td style=\"text-align:left\">hi_empunion</td><td>0.074<sup>***</sup></td><td>0.074<sup>***</sup></td><td>-0.889<sup>***</sup></td></tr>\n",
       "<tr><td style=\"text-align:left\"></td><td>(0.026)</td><td>(0.026)</td><td>(0.213)</td></tr>\n",
       "<tr><td style=\"text-align:left\">linc</td><td>0.010<sup></sup></td><td>0.010<sup></sup></td><td>0.087<sup>***</sup></td></tr>\n",
       "<tr><td style=\"text-align:left\"></td><td>(0.014)</td><td>(0.014)</td><td>(0.023)</td></tr>\n",
       "<tr><td style=\"text-align:left\">totchr</td><td>0.440<sup>***</sup></td><td>0.440<sup>***</sup></td><td>0.450<sup>***</sup></td></tr>\n",
       "<tr><td style=\"text-align:left\"></td><td>(0.009)</td><td>(0.009)</td><td>(0.010)</td></tr>\n",
       "\n",
       "<td colspan=\"4\" style=\"border-bottom: 1px solid black\"></td></tr>\n",
       "<tr><td style=\"text-align: left\">Observations</td><td>10089</td><td>10089</td><td>10089</td></tr><tr><td style=\"text-align: left\">R<sup>2</sup></td><td>0.177</td><td>0.177</td><td>0.066</td></tr><tr><td style=\"text-align: left\">Residual Std. Error</td><td>0.573 (df=10082)</td><td>0.573 (df=10082)</td><td>0.350 (df=10083)</td></tr><tr><td style=\"text-align: left\">F Statistic</td><td>2262.644<sup>***</sup> (df=7; 10082)</td><td>2262.644<sup>***</sup> (df=7; 10082)</td><td>2004.325<sup>***</sup> (df=6; 10083)</td></tr>\n",
       "<tr><td colspan=\"4\" style=\"border-bottom: 1px solid black\"></td></tr><tr><td style=\"text-align: left\">Note:</td><td colspan=\"3\" style=\"text-align: right\"><sup>*</sup>p&lt;0.1; <sup>**</sup>p&lt;0.05; <sup>***</sup>p&lt;0.01</td></tr></table>"
      ],
      "text/plain": [
       "<stargazer.stargazer.Stargazer at 0x7fc48bd24150>"
      ]
     },
     "execution_count": 6,
     "metadata": {},
     "output_type": "execute_result"
    }
   ],
   "source": [
    "import numpy as np\n",
    "from linearmodels.datasets import meps\n",
    "from linearmodels.iv import IV2SLS\n",
    "\n",
    "data = meps.load()\n",
    "data = data.dropna()\n",
    "\n",
    "formula = (\n",
    "    \"np.log(drugexp) ~ 1 + totchr + age + linc + blhisp + [hi_empunion ~ ssiratio]\"\n",
    ")\n",
    "mod = IV2SLS.from_formula(formula, data)\n",
    "iv_res2 = mod.fit(cov_type=\"robust\")\n",
    "\n",
    "formula = \"ldrugexp ~ 1 + totchr + female + age + linc + blhisp + hi_empunion\"\n",
    "ols = IV2SLS.from_formula(formula, data)\n",
    "ols_res = ols.fit(cov_type=\"robust\")\n",
    "\n",
    "formula = \"ldrugexp ~ 1 + totchr + female + age + linc + blhisp + hi_empunion\"\n",
    "ols_basic = ols.from_formula(formula, data).fit()\n",
    "iv_res = Stargazer([ols_res, ols_basic, iv_res2])\n",
    "iv_res.custom_columns(['OLS', 'OLS', 'IV'])"
   ]
  },
  {
   "cell_type": "code",
   "execution_count": null,
   "metadata": {},
   "outputs": [],
   "source": []
  }
 ],
 "metadata": {
  "kernelspec": {
   "display_name": "Python 3 (ipykernel)",
   "language": "python",
   "name": "python3"
  },
  "language_info": {
   "codemirror_mode": {
    "name": "ipython",
    "version": 3
   },
   "file_extension": ".py",
   "mimetype": "text/x-python",
   "name": "python",
   "nbconvert_exporter": "python",
   "pygments_lexer": "ipython3",
   "version": "3.11.5"
  }
 },
 "nbformat": 4,
 "nbformat_minor": 4
}
