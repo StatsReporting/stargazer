{
 "cells": [
  {
   "cell_type": "markdown",
   "metadata": {},
   "source": [
    "# Stargazer Examples"
   ]
  },
  {
   "cell_type": "code",
   "execution_count": 1,
   "metadata": {},
   "outputs": [],
   "source": [
    "import pandas as pd\n",
    "from sklearn import datasets\n",
    "import statsmodels.api as sm\n",
    "from stargazer.stargazer import Stargazer, LineLocation"
   ]
  },
  {
   "cell_type": "code",
   "execution_count": 2,
   "metadata": {},
   "outputs": [
    {
     "name": "stderr",
     "output_type": "stream",
     "text": [
      "/home/pietro/.local/lib/python3.9/site-packages/statsmodels/tsa/tsatools.py:142: FutureWarning: In a future version of pandas all arguments of concat except for the argument 'objs' will be keyword-only\n",
      "  x = pd.concat(x[::order], 1)\n"
     ]
    }
   ],
   "source": [
    "diabetes = datasets.load_diabetes()\n",
    "df = pd.DataFrame(diabetes.data)\n",
    "df.columns = ['Age', 'Sex', 'BMI', 'ABP', 'S1', 'S2', 'S3', 'S4', 'S5', 'S6']\n",
    "df['target'] = diabetes.target\n",
    "\n",
    "est = sm.OLS(endog=df['target'], exog=sm.add_constant(df[df.columns[0:4]])).fit()\n",
    "est2 = sm.OLS(endog=df['target'], exog=sm.add_constant(df[df.columns[0:6]])).fit()\n",
    "\n",
    "\n",
    "stargazer = Stargazer([est, est2])"
   ]
  },
  {
   "cell_type": "markdown",
   "metadata": {},
   "source": [
    "## Standard"
   ]
  },
  {
   "cell_type": "code",
   "execution_count": 3,
   "metadata": {},
   "outputs": [
    {
     "data": {
      "text/html": [
       "<table style=\"text-align:center\"><tr><td colspan=\"3\" style=\"border-bottom: 1px solid black\"></td></tr><tr><td style=\"text-align:left\"></td><td colspan=\"2\"><em>Dependent variable: target</em></td></tr><tr><td style=\"text-align:left\"></td><tr><td style=\"text-align:left\"></td><td>(1)</td><td>(2)</td></tr><tr><td colspan=\"3\" style=\"border-bottom: 1px solid black\"></td></tr>\n",
       "\n",
       "<tr><td style=\"text-align:left\">ABP</td><td>416.674<sup>***</sup></td><td>397.583<sup>***</sup></td></tr>\n",
       "<tr><td style=\"text-align:left\"></td><td>(69.495)</td><td>(70.870)</td></tr>\n",
       "<tr><td style=\"text-align:left\">Age</td><td>37.241<sup></sup></td><td>24.704<sup></sup></td></tr>\n",
       "<tr><td style=\"text-align:left\"></td><td>(64.117)</td><td>(65.411)</td></tr>\n",
       "<tr><td style=\"text-align:left\">BMI</td><td>787.179<sup>***</sup></td><td>789.742<sup>***</sup></td></tr>\n",
       "<tr><td style=\"text-align:left\"></td><td>(65.424)</td><td>(66.887)</td></tr>\n",
       "<tr><td style=\"text-align:left\">S1</td><td></td><td>197.852<sup></sup></td></tr>\n",
       "<tr><td style=\"text-align:left\"></td><td></td><td>(143.812)</td></tr>\n",
       "<tr><td style=\"text-align:left\">S2</td><td></td><td>-169.251<sup></sup></td></tr>\n",
       "<tr><td style=\"text-align:left\"></td><td></td><td>(142.744)</td></tr>\n",
       "<tr><td style=\"text-align:left\">Sex</td><td>-106.578<sup>*</sup></td><td>-82.862<sup></sup></td></tr>\n",
       "<tr><td style=\"text-align:left\"></td><td>(62.125)</td><td>(64.851)</td></tr>\n",
       "<tr><td style=\"text-align:left\">const</td><td>152.133<sup>***</sup></td><td>152.133<sup>***</sup></td></tr>\n",
       "<tr><td style=\"text-align:left\"></td><td>(2.853)</td><td>(2.853)</td></tr>\n",
       "\n",
       "<td colspan=\"3\" style=\"border-bottom: 1px solid black\"></td></tr>\n",
       "<tr><td style=\"text-align: left\">Observations</td><td>442</td><td>442</td></tr><tr><td style=\"text-align: left\">R<sup>2</sup></td><td>0.400</td><td>0.403</td></tr><tr><td style=\"text-align: left\">Adjusted R<sup>2</sup></td><td>0.395</td><td>0.395</td></tr><tr><td style=\"text-align: left\">Residual Std. Error</td><td>59.976 (df=437)</td><td>59.982 (df=435)</td></tr><tr><td style=\"text-align: left\">F Statistic</td><td>72.913<sup>***</sup> (df=4; 437)</td><td>48.915<sup>***</sup> (df=6; 435)</td></tr>\n",
       "<tr><td colspan=\"3\" style=\"border-bottom: 1px solid black\"></td></tr><tr><td style=\"text-align: left\">Note:</td><td colspan=\"2\" style=\"text-align: right\"><sup>*</sup>p&lt;0.1; <sup>**</sup>p&lt;0.05; <sup>***</sup>p&lt;0.01</td></tr></table>"
      ],
      "text/plain": [
       "<stargazer.stargazer.Stargazer at 0x7fb7b6523df0>"
      ]
     },
     "execution_count": 3,
     "metadata": {},
     "output_type": "execute_result"
    }
   ],
   "source": [
    "# Equivalent to:\n",
    "# from IPython.core.display import HTML\n",
    "# HTML(stargazer.render_html())\n",
    "\n",
    "stargazer"
   ]
  },
  {
   "cell_type": "markdown",
   "metadata": {},
   "source": [
    "## Custom Title"
   ]
  },
  {
   "cell_type": "code",
   "execution_count": 4,
   "metadata": {},
   "outputs": [
    {
     "data": {
      "text/html": [
       "Diabetes Study<br><table style=\"text-align:center\"><tr><td colspan=\"3\" style=\"border-bottom: 1px solid black\"></td></tr><tr><td style=\"text-align:left\"></td><td colspan=\"2\"><em>Dependent variable: target</em></td></tr><tr><td style=\"text-align:left\"></td><tr><td style=\"text-align:left\"></td><td>(1)</td><td>(2)</td></tr><tr><td colspan=\"3\" style=\"border-bottom: 1px solid black\"></td></tr>\n",
       "\n",
       "<tr><td style=\"text-align:left\">ABP</td><td>416.674<sup>***</sup></td><td>397.583<sup>***</sup></td></tr>\n",
       "<tr><td style=\"text-align:left\"></td><td>(69.495)</td><td>(70.870)</td></tr>\n",
       "<tr><td style=\"text-align:left\">Age</td><td>37.241<sup></sup></td><td>24.704<sup></sup></td></tr>\n",
       "<tr><td style=\"text-align:left\"></td><td>(64.117)</td><td>(65.411)</td></tr>\n",
       "<tr><td style=\"text-align:left\">BMI</td><td>787.179<sup>***</sup></td><td>789.742<sup>***</sup></td></tr>\n",
       "<tr><td style=\"text-align:left\"></td><td>(65.424)</td><td>(66.887)</td></tr>\n",
       "<tr><td style=\"text-align:left\">S1</td><td></td><td>197.852<sup></sup></td></tr>\n",
       "<tr><td style=\"text-align:left\"></td><td></td><td>(143.812)</td></tr>\n",
       "<tr><td style=\"text-align:left\">S2</td><td></td><td>-169.251<sup></sup></td></tr>\n",
       "<tr><td style=\"text-align:left\"></td><td></td><td>(142.744)</td></tr>\n",
       "<tr><td style=\"text-align:left\">Sex</td><td>-106.578<sup>*</sup></td><td>-82.862<sup></sup></td></tr>\n",
       "<tr><td style=\"text-align:left\"></td><td>(62.125)</td><td>(64.851)</td></tr>\n",
       "<tr><td style=\"text-align:left\">const</td><td>152.133<sup>***</sup></td><td>152.133<sup>***</sup></td></tr>\n",
       "<tr><td style=\"text-align:left\"></td><td>(2.853)</td><td>(2.853)</td></tr>\n",
       "\n",
       "<td colspan=\"3\" style=\"border-bottom: 1px solid black\"></td></tr>\n",
       "<tr><td style=\"text-align: left\">Observations</td><td>442</td><td>442</td></tr><tr><td style=\"text-align: left\">R<sup>2</sup></td><td>0.400</td><td>0.403</td></tr><tr><td style=\"text-align: left\">Adjusted R<sup>2</sup></td><td>0.395</td><td>0.395</td></tr><tr><td style=\"text-align: left\">Residual Std. Error</td><td>59.976 (df=437)</td><td>59.982 (df=435)</td></tr><tr><td style=\"text-align: left\">F Statistic</td><td>72.913<sup>***</sup> (df=4; 437)</td><td>48.915<sup>***</sup> (df=6; 435)</td></tr>\n",
       "<tr><td colspan=\"3\" style=\"border-bottom: 1px solid black\"></td></tr><tr><td style=\"text-align: left\">Note:</td><td colspan=\"2\" style=\"text-align: right\"><sup>*</sup>p&lt;0.1; <sup>**</sup>p&lt;0.05; <sup>***</sup>p&lt;0.01</td></tr></table>"
      ],
      "text/plain": [
       "<stargazer.stargazer.Stargazer at 0x7fb7b6523df0>"
      ]
     },
     "execution_count": 4,
     "metadata": {},
     "output_type": "execute_result"
    }
   ],
   "source": [
    "stargazer.title('Diabetes Study')\n",
    "stargazer"
   ]
  },
  {
   "cell_type": "markdown",
   "metadata": {},
   "source": [
    "## Custom Model Names"
   ]
  },
  {
   "cell_type": "code",
   "execution_count": 5,
   "metadata": {},
   "outputs": [
    {
     "data": {
      "text/html": [
       "Diabetes Study<br><table style=\"text-align:center\"><tr><td colspan=\"3\" style=\"border-bottom: 1px solid black\"></td></tr><tr><td style=\"text-align:left\"></td><td colspan=\"2\"><em>Dependent variable: target</em></td></tr><tr><td style=\"text-align:left\"></td><tr><td></td><td colspan=\"1\">Model 1</td><td colspan=\"1\">Model 2</td></tr><tr><td style=\"text-align:left\"></td><td>(1)</td><td>(2)</td></tr><tr><td colspan=\"3\" style=\"border-bottom: 1px solid black\"></td></tr>\n",
       "\n",
       "<tr><td style=\"text-align:left\">ABP</td><td>416.674<sup>***</sup></td><td>397.583<sup>***</sup></td></tr>\n",
       "<tr><td style=\"text-align:left\"></td><td>(69.495)</td><td>(70.870)</td></tr>\n",
       "<tr><td style=\"text-align:left\">Age</td><td>37.241<sup></sup></td><td>24.704<sup></sup></td></tr>\n",
       "<tr><td style=\"text-align:left\"></td><td>(64.117)</td><td>(65.411)</td></tr>\n",
       "<tr><td style=\"text-align:left\">BMI</td><td>787.179<sup>***</sup></td><td>789.742<sup>***</sup></td></tr>\n",
       "<tr><td style=\"text-align:left\"></td><td>(65.424)</td><td>(66.887)</td></tr>\n",
       "<tr><td style=\"text-align:left\">S1</td><td></td><td>197.852<sup></sup></td></tr>\n",
       "<tr><td style=\"text-align:left\"></td><td></td><td>(143.812)</td></tr>\n",
       "<tr><td style=\"text-align:left\">S2</td><td></td><td>-169.251<sup></sup></td></tr>\n",
       "<tr><td style=\"text-align:left\"></td><td></td><td>(142.744)</td></tr>\n",
       "<tr><td style=\"text-align:left\">Sex</td><td>-106.578<sup>*</sup></td><td>-82.862<sup></sup></td></tr>\n",
       "<tr><td style=\"text-align:left\"></td><td>(62.125)</td><td>(64.851)</td></tr>\n",
       "<tr><td style=\"text-align:left\">const</td><td>152.133<sup>***</sup></td><td>152.133<sup>***</sup></td></tr>\n",
       "<tr><td style=\"text-align:left\"></td><td>(2.853)</td><td>(2.853)</td></tr>\n",
       "\n",
       "<td colspan=\"3\" style=\"border-bottom: 1px solid black\"></td></tr>\n",
       "<tr><td style=\"text-align: left\">Observations</td><td>442</td><td>442</td></tr><tr><td style=\"text-align: left\">R<sup>2</sup></td><td>0.400</td><td>0.403</td></tr><tr><td style=\"text-align: left\">Adjusted R<sup>2</sup></td><td>0.395</td><td>0.395</td></tr><tr><td style=\"text-align: left\">Residual Std. Error</td><td>59.976 (df=437)</td><td>59.982 (df=435)</td></tr><tr><td style=\"text-align: left\">F Statistic</td><td>72.913<sup>***</sup> (df=4; 437)</td><td>48.915<sup>***</sup> (df=6; 435)</td></tr>\n",
       "<tr><td colspan=\"3\" style=\"border-bottom: 1px solid black\"></td></tr><tr><td style=\"text-align: left\">Note:</td><td colspan=\"2\" style=\"text-align: right\"><sup>*</sup>p&lt;0.1; <sup>**</sup>p&lt;0.05; <sup>***</sup>p&lt;0.01</td></tr></table>"
      ],
      "text/plain": [
       "<stargazer.stargazer.Stargazer at 0x7fb7b6523df0>"
      ]
     },
     "execution_count": 5,
     "metadata": {},
     "output_type": "execute_result"
    }
   ],
   "source": [
    "stargazer.custom_columns(['Model 1', 'Model 2'], [1, 1])\n",
    "stargazer"
   ]
  },
  {
   "cell_type": "code",
   "execution_count": 6,
   "metadata": {},
   "outputs": [
    {
     "data": {
      "text/html": [
       "Diabetes Study<br><table style=\"text-align:center\"><tr><td colspan=\"3\" style=\"border-bottom: 1px solid black\"></td></tr><tr><td style=\"text-align:left\"></td><td colspan=\"2\"><em>Dependent variable: target</em></td></tr><tr><td style=\"text-align:left\"></td><td colspan=\"2\">Test model name</td></tr><tr><td style=\"text-align:left\"></td><td>(1)</td><td>(2)</td></tr><tr><td colspan=\"3\" style=\"border-bottom: 1px solid black\"></td></tr>\n",
       "\n",
       "<tr><td style=\"text-align:left\">ABP</td><td>416.674<sup>***</sup></td><td>397.583<sup>***</sup></td></tr>\n",
       "<tr><td style=\"text-align:left\"></td><td>(69.495)</td><td>(70.870)</td></tr>\n",
       "<tr><td style=\"text-align:left\">Age</td><td>37.241<sup></sup></td><td>24.704<sup></sup></td></tr>\n",
       "<tr><td style=\"text-align:left\"></td><td>(64.117)</td><td>(65.411)</td></tr>\n",
       "<tr><td style=\"text-align:left\">BMI</td><td>787.179<sup>***</sup></td><td>789.742<sup>***</sup></td></tr>\n",
       "<tr><td style=\"text-align:left\"></td><td>(65.424)</td><td>(66.887)</td></tr>\n",
       "<tr><td style=\"text-align:left\">S1</td><td></td><td>197.852<sup></sup></td></tr>\n",
       "<tr><td style=\"text-align:left\"></td><td></td><td>(143.812)</td></tr>\n",
       "<tr><td style=\"text-align:left\">S2</td><td></td><td>-169.251<sup></sup></td></tr>\n",
       "<tr><td style=\"text-align:left\"></td><td></td><td>(142.744)</td></tr>\n",
       "<tr><td style=\"text-align:left\">Sex</td><td>-106.578<sup>*</sup></td><td>-82.862<sup></sup></td></tr>\n",
       "<tr><td style=\"text-align:left\"></td><td>(62.125)</td><td>(64.851)</td></tr>\n",
       "<tr><td style=\"text-align:left\">const</td><td>152.133<sup>***</sup></td><td>152.133<sup>***</sup></td></tr>\n",
       "<tr><td style=\"text-align:left\"></td><td>(2.853)</td><td>(2.853)</td></tr>\n",
       "\n",
       "<td colspan=\"3\" style=\"border-bottom: 1px solid black\"></td></tr>\n",
       "<tr><td style=\"text-align: left\">Observations</td><td>442</td><td>442</td></tr><tr><td style=\"text-align: left\">R<sup>2</sup></td><td>0.400</td><td>0.403</td></tr><tr><td style=\"text-align: left\">Adjusted R<sup>2</sup></td><td>0.395</td><td>0.395</td></tr><tr><td style=\"text-align: left\">Residual Std. Error</td><td>59.976 (df=437)</td><td>59.982 (df=435)</td></tr><tr><td style=\"text-align: left\">F Statistic</td><td>72.913<sup>***</sup> (df=4; 437)</td><td>48.915<sup>***</sup> (df=6; 435)</td></tr>\n",
       "<tr><td colspan=\"3\" style=\"border-bottom: 1px solid black\"></td></tr><tr><td style=\"text-align: left\">Note:</td><td colspan=\"2\" style=\"text-align: right\"><sup>*</sup>p&lt;0.1; <sup>**</sup>p&lt;0.05; <sup>***</sup>p&lt;0.01</td></tr></table>"
      ],
      "text/plain": [
       "<stargazer.stargazer.Stargazer at 0x7fb7b6523df0>"
      ]
     },
     "execution_count": 6,
     "metadata": {},
     "output_type": "execute_result"
    }
   ],
   "source": [
    "stargazer.custom_columns('Test model name')\n",
    "stargazer"
   ]
  },
  {
   "cell_type": "markdown",
   "metadata": {},
   "source": [
    "## Remove Model Numbers"
   ]
  },
  {
   "cell_type": "code",
   "execution_count": 7,
   "metadata": {},
   "outputs": [
    {
     "data": {
      "text/html": [
       "Diabetes Study<br><table style=\"text-align:center\"><tr><td colspan=\"3\" style=\"border-bottom: 1px solid black\"></td></tr><tr><td style=\"text-align:left\"></td><td colspan=\"2\"><em>Dependent variable: target</em></td></tr><tr><td style=\"text-align:left\"></td><td colspan=\"2\">Test model name</td></tr><tr><td colspan=\"3\" style=\"border-bottom: 1px solid black\"></td></tr>\n",
       "\n",
       "<tr><td style=\"text-align:left\">ABP</td><td>416.674<sup>***</sup></td><td>397.583<sup>***</sup></td></tr>\n",
       "<tr><td style=\"text-align:left\"></td><td>(69.495)</td><td>(70.870)</td></tr>\n",
       "<tr><td style=\"text-align:left\">Age</td><td>37.241<sup></sup></td><td>24.704<sup></sup></td></tr>\n",
       "<tr><td style=\"text-align:left\"></td><td>(64.117)</td><td>(65.411)</td></tr>\n",
       "<tr><td style=\"text-align:left\">BMI</td><td>787.179<sup>***</sup></td><td>789.742<sup>***</sup></td></tr>\n",
       "<tr><td style=\"text-align:left\"></td><td>(65.424)</td><td>(66.887)</td></tr>\n",
       "<tr><td style=\"text-align:left\">S1</td><td></td><td>197.852<sup></sup></td></tr>\n",
       "<tr><td style=\"text-align:left\"></td><td></td><td>(143.812)</td></tr>\n",
       "<tr><td style=\"text-align:left\">S2</td><td></td><td>-169.251<sup></sup></td></tr>\n",
       "<tr><td style=\"text-align:left\"></td><td></td><td>(142.744)</td></tr>\n",
       "<tr><td style=\"text-align:left\">Sex</td><td>-106.578<sup>*</sup></td><td>-82.862<sup></sup></td></tr>\n",
       "<tr><td style=\"text-align:left\"></td><td>(62.125)</td><td>(64.851)</td></tr>\n",
       "<tr><td style=\"text-align:left\">const</td><td>152.133<sup>***</sup></td><td>152.133<sup>***</sup></td></tr>\n",
       "<tr><td style=\"text-align:left\"></td><td>(2.853)</td><td>(2.853)</td></tr>\n",
       "\n",
       "<td colspan=\"3\" style=\"border-bottom: 1px solid black\"></td></tr>\n",
       "<tr><td style=\"text-align: left\">Observations</td><td>442</td><td>442</td></tr><tr><td style=\"text-align: left\">R<sup>2</sup></td><td>0.400</td><td>0.403</td></tr><tr><td style=\"text-align: left\">Adjusted R<sup>2</sup></td><td>0.395</td><td>0.395</td></tr><tr><td style=\"text-align: left\">Residual Std. Error</td><td>59.976 (df=437)</td><td>59.982 (df=435)</td></tr><tr><td style=\"text-align: left\">F Statistic</td><td>72.913<sup>***</sup> (df=4; 437)</td><td>48.915<sup>***</sup> (df=6; 435)</td></tr>\n",
       "<tr><td colspan=\"3\" style=\"border-bottom: 1px solid black\"></td></tr><tr><td style=\"text-align: left\">Note:</td><td colspan=\"2\" style=\"text-align: right\"><sup>*</sup>p&lt;0.1; <sup>**</sup>p&lt;0.05; <sup>***</sup>p&lt;0.01</td></tr></table>"
      ],
      "text/plain": [
       "<stargazer.stargazer.Stargazer at 0x7fb7b6523df0>"
      ]
     },
     "execution_count": 7,
     "metadata": {},
     "output_type": "execute_result"
    }
   ],
   "source": [
    "stargazer.show_model_numbers(False)\n",
    "stargazer"
   ]
  },
  {
   "cell_type": "markdown",
   "metadata": {},
   "source": [
    "## Specify Significant Digits"
   ]
  },
  {
   "cell_type": "code",
   "execution_count": 8,
   "metadata": {},
   "outputs": [
    {
     "data": {
      "text/html": [
       "Diabetes Study<br><table style=\"text-align:center\"><tr><td colspan=\"3\" style=\"border-bottom: 1px solid black\"></td></tr><tr><td style=\"text-align:left\"></td><td colspan=\"2\"><em>Dependent variable: target</em></td></tr><tr><td style=\"text-align:left\"></td><td colspan=\"2\">Test model name</td></tr><tr><td colspan=\"3\" style=\"border-bottom: 1px solid black\"></td></tr>\n",
       "\n",
       "<tr><td style=\"text-align:left\">ABP</td><td>416.67<sup>***</sup></td><td>397.58<sup>***</sup></td></tr>\n",
       "<tr><td style=\"text-align:left\"></td><td>(69.49)</td><td>(70.87)</td></tr>\n",
       "<tr><td style=\"text-align:left\">Age</td><td>37.24<sup></sup></td><td>24.70<sup></sup></td></tr>\n",
       "<tr><td style=\"text-align:left\"></td><td>(64.12)</td><td>(65.41)</td></tr>\n",
       "<tr><td style=\"text-align:left\">BMI</td><td>787.18<sup>***</sup></td><td>789.74<sup>***</sup></td></tr>\n",
       "<tr><td style=\"text-align:left\"></td><td>(65.42)</td><td>(66.89)</td></tr>\n",
       "<tr><td style=\"text-align:left\">S1</td><td></td><td>197.85<sup></sup></td></tr>\n",
       "<tr><td style=\"text-align:left\"></td><td></td><td>(143.81)</td></tr>\n",
       "<tr><td style=\"text-align:left\">S2</td><td></td><td>-169.25<sup></sup></td></tr>\n",
       "<tr><td style=\"text-align:left\"></td><td></td><td>(142.74)</td></tr>\n",
       "<tr><td style=\"text-align:left\">Sex</td><td>-106.58<sup>*</sup></td><td>-82.86<sup></sup></td></tr>\n",
       "<tr><td style=\"text-align:left\"></td><td>(62.13)</td><td>(64.85)</td></tr>\n",
       "<tr><td style=\"text-align:left\">const</td><td>152.13<sup>***</sup></td><td>152.13<sup>***</sup></td></tr>\n",
       "<tr><td style=\"text-align:left\"></td><td>(2.85)</td><td>(2.85)</td></tr>\n",
       "\n",
       "<td colspan=\"3\" style=\"border-bottom: 1px solid black\"></td></tr>\n",
       "<tr><td style=\"text-align: left\">Observations</td><td>442</td><td>442</td></tr><tr><td style=\"text-align: left\">R<sup>2</sup></td><td>0.40</td><td>0.40</td></tr><tr><td style=\"text-align: left\">Adjusted R<sup>2</sup></td><td>0.39</td><td>0.39</td></tr><tr><td style=\"text-align: left\">Residual Std. Error</td><td>59.98 (df=437)</td><td>59.98 (df=435)</td></tr><tr><td style=\"text-align: left\">F Statistic</td><td>72.91<sup>***</sup> (df=4; 437)</td><td>48.91<sup>***</sup> (df=6; 435)</td></tr>\n",
       "<tr><td colspan=\"3\" style=\"border-bottom: 1px solid black\"></td></tr><tr><td style=\"text-align: left\">Note:</td><td colspan=\"2\" style=\"text-align: right\"><sup>*</sup>p&lt;0.1; <sup>**</sup>p&lt;0.05; <sup>***</sup>p&lt;0.01</td></tr></table>"
      ],
      "text/plain": [
       "<stargazer.stargazer.Stargazer at 0x7fb7b6523df0>"
      ]
     },
     "execution_count": 8,
     "metadata": {},
     "output_type": "execute_result"
    }
   ],
   "source": [
    "stargazer.significant_digits(2)\n",
    "stargazer"
   ]
  },
  {
   "cell_type": "markdown",
   "metadata": {},
   "source": [
    "## Show Confidence Intervals Over Standard Errors"
   ]
  },
  {
   "cell_type": "code",
   "execution_count": 9,
   "metadata": {},
   "outputs": [
    {
     "data": {
      "text/html": [
       "Diabetes Study<br><table style=\"text-align:center\"><tr><td colspan=\"3\" style=\"border-bottom: 1px solid black\"></td></tr><tr><td style=\"text-align:left\"></td><td colspan=\"2\"><em>Dependent variable: target</em></td></tr><tr><td style=\"text-align:left\"></td><td colspan=\"2\">Test model name</td></tr><tr><td colspan=\"3\" style=\"border-bottom: 1px solid black\"></td></tr>\n",
       "\n",
       "<tr><td style=\"text-align:left\">ABP</td><td>416.67<sup>***</sup></td><td>397.58<sup>***</sup></td></tr>\n",
       "<tr><td style=\"text-align:left\"></td><td>(280.09 , 553.26)</td><td>(258.29 , 536.87)</td></tr>\n",
       "<tr><td style=\"text-align:left\">Age</td><td>37.24<sup></sup></td><td>24.70<sup></sup></td></tr>\n",
       "<tr><td style=\"text-align:left\"></td><td>(-88.78 , 163.26)</td><td>(-103.86 , 153.26)</td></tr>\n",
       "<tr><td style=\"text-align:left\">BMI</td><td>787.18<sup>***</sup></td><td>789.74<sup>***</sup></td></tr>\n",
       "<tr><td style=\"text-align:left\"></td><td>(658.59 , 915.76)</td><td>(658.28 , 921.20)</td></tr>\n",
       "<tr><td style=\"text-align:left\">S1</td><td></td><td>197.85<sup></sup></td></tr>\n",
       "<tr><td style=\"text-align:left\"></td><td></td><td>(-84.80 , 480.51)</td></tr>\n",
       "<tr><td style=\"text-align:left\">S2</td><td></td><td>-169.25<sup></sup></td></tr>\n",
       "<tr><td style=\"text-align:left\"></td><td></td><td>(-449.80 , 111.30)</td></tr>\n",
       "<tr><td style=\"text-align:left\">Sex</td><td>-106.58<sup>*</sup></td><td>-82.86<sup></sup></td></tr>\n",
       "<tr><td style=\"text-align:left\"></td><td>(-228.68 , 15.52)</td><td>(-210.32 , 44.60)</td></tr>\n",
       "<tr><td style=\"text-align:left\">const</td><td>152.13<sup>***</sup></td><td>152.13<sup>***</sup></td></tr>\n",
       "<tr><td style=\"text-align:left\"></td><td>(146.53 , 157.74)</td><td>(146.53 , 157.74)</td></tr>\n",
       "\n",
       "<td colspan=\"3\" style=\"border-bottom: 1px solid black\"></td></tr>\n",
       "<tr><td style=\"text-align: left\">Observations</td><td>442</td><td>442</td></tr><tr><td style=\"text-align: left\">R<sup>2</sup></td><td>0.40</td><td>0.40</td></tr><tr><td style=\"text-align: left\">Adjusted R<sup>2</sup></td><td>0.39</td><td>0.39</td></tr><tr><td style=\"text-align: left\">Residual Std. Error</td><td>59.98 (df=437)</td><td>59.98 (df=435)</td></tr><tr><td style=\"text-align: left\">F Statistic</td><td>72.91<sup>***</sup> (df=4; 437)</td><td>48.91<sup>***</sup> (df=6; 435)</td></tr>\n",
       "<tr><td colspan=\"3\" style=\"border-bottom: 1px solid black\"></td></tr><tr><td style=\"text-align: left\">Note:</td><td colspan=\"2\" style=\"text-align: right\"><sup>*</sup>p&lt;0.1; <sup>**</sup>p&lt;0.05; <sup>***</sup>p&lt;0.01</td></tr></table>"
      ],
      "text/plain": [
       "<stargazer.stargazer.Stargazer at 0x7fb7b6523df0>"
      ]
     },
     "execution_count": 9,
     "metadata": {},
     "output_type": "execute_result"
    }
   ],
   "source": [
    "stargazer.show_confidence_intervals(True)\n",
    "stargazer"
   ]
  },
  {
   "cell_type": "markdown",
   "metadata": {},
   "source": [
    "## Subset Covariates and/or Choose Covariate Order"
   ]
  },
  {
   "cell_type": "code",
   "execution_count": 10,
   "metadata": {},
   "outputs": [
    {
     "data": {
      "text/html": [
       "Diabetes Study<br><table style=\"text-align:center\"><tr><td colspan=\"3\" style=\"border-bottom: 1px solid black\"></td></tr><tr><td style=\"text-align:left\"></td><td colspan=\"2\"><em>Dependent variable: target</em></td></tr><tr><td style=\"text-align:left\"></td><td colspan=\"2\">Test model name</td></tr><tr><td colspan=\"3\" style=\"border-bottom: 1px solid black\"></td></tr>\n",
       "\n",
       "<tr><td style=\"text-align:left\">BMI</td><td>787.18<sup>***</sup></td><td>789.74<sup>***</sup></td></tr>\n",
       "<tr><td style=\"text-align:left\"></td><td>(658.59 , 915.76)</td><td>(658.28 , 921.20)</td></tr>\n",
       "<tr><td style=\"text-align:left\">Age</td><td>37.24<sup></sup></td><td>24.70<sup></sup></td></tr>\n",
       "<tr><td style=\"text-align:left\"></td><td>(-88.78 , 163.26)</td><td>(-103.86 , 153.26)</td></tr>\n",
       "<tr><td style=\"text-align:left\">S1</td><td></td><td>197.85<sup></sup></td></tr>\n",
       "<tr><td style=\"text-align:left\"></td><td></td><td>(-84.80 , 480.51)</td></tr>\n",
       "<tr><td style=\"text-align:left\">Sex</td><td>-106.58<sup>*</sup></td><td>-82.86<sup></sup></td></tr>\n",
       "<tr><td style=\"text-align:left\"></td><td>(-228.68 , 15.52)</td><td>(-210.32 , 44.60)</td></tr>\n",
       "\n",
       "<td colspan=\"3\" style=\"border-bottom: 1px solid black\"></td></tr>\n",
       "<tr><td style=\"text-align: left\">Observations</td><td>442</td><td>442</td></tr><tr><td style=\"text-align: left\">R<sup>2</sup></td><td>0.40</td><td>0.40</td></tr><tr><td style=\"text-align: left\">Adjusted R<sup>2</sup></td><td>0.39</td><td>0.39</td></tr><tr><td style=\"text-align: left\">Residual Std. Error</td><td>59.98 (df=437)</td><td>59.98 (df=435)</td></tr><tr><td style=\"text-align: left\">F Statistic</td><td>72.91<sup>***</sup> (df=4; 437)</td><td>48.91<sup>***</sup> (df=6; 435)</td></tr>\n",
       "<tr><td colspan=\"3\" style=\"border-bottom: 1px solid black\"></td></tr><tr><td style=\"text-align: left\">Note:</td><td colspan=\"2\" style=\"text-align: right\"><sup>*</sup>p&lt;0.1; <sup>**</sup>p&lt;0.05; <sup>***</sup>p&lt;0.01</td></tr></table>"
      ],
      "text/plain": [
       "<stargazer.stargazer.Stargazer at 0x7fb7b6523df0>"
      ]
     },
     "execution_count": 10,
     "metadata": {},
     "output_type": "execute_result"
    }
   ],
   "source": [
    "stargazer.covariate_order(['BMI', 'Age', 'S1', 'Sex'])\n",
    "stargazer"
   ]
  },
  {
   "cell_type": "markdown",
   "metadata": {},
   "source": [
    "## Rename Covariates"
   ]
  },
  {
   "cell_type": "code",
   "execution_count": 11,
   "metadata": {},
   "outputs": [
    {
     "data": {
      "text/html": [
       "Diabetes Study<br><table style=\"text-align:center\"><tr><td colspan=\"3\" style=\"border-bottom: 1px solid black\"></td></tr><tr><td style=\"text-align:left\"></td><td colspan=\"2\"><em>Dependent variable: target</em></td></tr><tr><td style=\"text-align:left\"></td><td colspan=\"2\">Test model name</td></tr><tr><td colspan=\"3\" style=\"border-bottom: 1px solid black\"></td></tr>\n",
       "\n",
       "<tr><td style=\"text-align:left\">BMI</td><td>787.18<sup>***</sup></td><td>789.74<sup>***</sup></td></tr>\n",
       "<tr><td style=\"text-align:left\"></td><td>(658.59 , 915.76)</td><td>(658.28 , 921.20)</td></tr>\n",
       "<tr><td style=\"text-align:left\">Oldness</td><td>37.24<sup></sup></td><td>24.70<sup></sup></td></tr>\n",
       "<tr><td style=\"text-align:left\"></td><td>(-88.78 , 163.26)</td><td>(-103.86 , 153.26)</td></tr>\n",
       "<tr><td style=\"text-align:left\">S1</td><td></td><td>197.85<sup></sup></td></tr>\n",
       "<tr><td style=\"text-align:left\"></td><td></td><td>(-84.80 , 480.51)</td></tr>\n",
       "<tr><td style=\"text-align:left\">Sex</td><td>-106.58<sup>*</sup></td><td>-82.86<sup></sup></td></tr>\n",
       "<tr><td style=\"text-align:left\"></td><td>(-228.68 , 15.52)</td><td>(-210.32 , 44.60)</td></tr>\n",
       "\n",
       "<td colspan=\"3\" style=\"border-bottom: 1px solid black\"></td></tr>\n",
       "<tr><td style=\"text-align: left\">Observations</td><td>442</td><td>442</td></tr><tr><td style=\"text-align: left\">R<sup>2</sup></td><td>0.40</td><td>0.40</td></tr><tr><td style=\"text-align: left\">Adjusted R<sup>2</sup></td><td>0.39</td><td>0.39</td></tr><tr><td style=\"text-align: left\">Residual Std. Error</td><td>59.98 (df=437)</td><td>59.98 (df=435)</td></tr><tr><td style=\"text-align: left\">F Statistic</td><td>72.91<sup>***</sup> (df=4; 437)</td><td>48.91<sup>***</sup> (df=6; 435)</td></tr>\n",
       "<tr><td colspan=\"3\" style=\"border-bottom: 1px solid black\"></td></tr><tr><td style=\"text-align: left\">Note:</td><td colspan=\"2\" style=\"text-align: right\"><sup>*</sup>p&lt;0.1; <sup>**</sup>p&lt;0.05; <sup>***</sup>p&lt;0.01</td></tr></table>"
      ],
      "text/plain": [
       "<stargazer.stargazer.Stargazer at 0x7fb7b6523df0>"
      ]
     },
     "execution_count": 11,
     "metadata": {},
     "output_type": "execute_result"
    }
   ],
   "source": [
    "stargazer.rename_covariates({'Age': 'Oldness'})\n",
    "stargazer"
   ]
  },
  {
   "cell_type": "markdown",
   "metadata": {},
   "source": [
    "## Hide/Show Degrees of Freedom"
   ]
  },
  {
   "cell_type": "code",
   "execution_count": 12,
   "metadata": {},
   "outputs": [
    {
     "data": {
      "text/html": [
       "Diabetes Study<br><table style=\"text-align:center\"><tr><td colspan=\"3\" style=\"border-bottom: 1px solid black\"></td></tr><tr><td style=\"text-align:left\"></td><td colspan=\"2\"><em>Dependent variable: target</em></td></tr><tr><td style=\"text-align:left\"></td><td colspan=\"2\">Test model name</td></tr><tr><td colspan=\"3\" style=\"border-bottom: 1px solid black\"></td></tr>\n",
       "\n",
       "<tr><td style=\"text-align:left\">BMI</td><td>787.18<sup>***</sup></td><td>789.74<sup>***</sup></td></tr>\n",
       "<tr><td style=\"text-align:left\"></td><td>(658.59 , 915.76)</td><td>(658.28 , 921.20)</td></tr>\n",
       "<tr><td style=\"text-align:left\">Oldness</td><td>37.24<sup></sup></td><td>24.70<sup></sup></td></tr>\n",
       "<tr><td style=\"text-align:left\"></td><td>(-88.78 , 163.26)</td><td>(-103.86 , 153.26)</td></tr>\n",
       "<tr><td style=\"text-align:left\">S1</td><td></td><td>197.85<sup></sup></td></tr>\n",
       "<tr><td style=\"text-align:left\"></td><td></td><td>(-84.80 , 480.51)</td></tr>\n",
       "<tr><td style=\"text-align:left\">Sex</td><td>-106.58<sup>*</sup></td><td>-82.86<sup></sup></td></tr>\n",
       "<tr><td style=\"text-align:left\"></td><td>(-228.68 , 15.52)</td><td>(-210.32 , 44.60)</td></tr>\n",
       "\n",
       "<td colspan=\"3\" style=\"border-bottom: 1px solid black\"></td></tr>\n",
       "<tr><td style=\"text-align: left\">Observations</td><td>442</td><td>442</td></tr><tr><td style=\"text-align: left\">R<sup>2</sup></td><td>0.40</td><td>0.40</td></tr><tr><td style=\"text-align: left\">Adjusted R<sup>2</sup></td><td>0.39</td><td>0.39</td></tr><tr><td style=\"text-align: left\">Residual Std. Error</td><td>59.98</td><td>59.98</td></tr><tr><td style=\"text-align: left\">F Statistic</td><td>72.91<sup>***</sup></td><td>48.91<sup>***</sup></td></tr>\n",
       "<tr><td colspan=\"3\" style=\"border-bottom: 1px solid black\"></td></tr><tr><td style=\"text-align: left\">Note:</td><td colspan=\"2\" style=\"text-align: right\"><sup>*</sup>p&lt;0.1; <sup>**</sup>p&lt;0.05; <sup>***</sup>p&lt;0.01</td></tr></table>"
      ],
      "text/plain": [
       "<stargazer.stargazer.Stargazer at 0x7fb7b6523df0>"
      ]
     },
     "execution_count": 12,
     "metadata": {},
     "output_type": "execute_result"
    }
   ],
   "source": [
    "stargazer.show_degrees_of_freedom(False)\n",
    "stargazer"
   ]
  },
  {
   "cell_type": "markdown",
   "metadata": {},
   "source": [
    "## Show Custom Notes"
   ]
  },
  {
   "cell_type": "code",
   "execution_count": 13,
   "metadata": {
    "pycharm": {
     "name": "#%%\n"
    }
   },
   "outputs": [
    {
     "data": {
      "text/html": [
       "Diabetes Study<br><table style=\"text-align:center\"><tr><td colspan=\"3\" style=\"border-bottom: 1px solid black\"></td></tr><tr><td style=\"text-align:left\"></td><td colspan=\"2\"><em>Dependent variable: target</em></td></tr><tr><td style=\"text-align:left\"></td><td colspan=\"2\">Test model name</td></tr><tr><td colspan=\"3\" style=\"border-bottom: 1px solid black\"></td></tr>\n",
       "\n",
       "<tr><td style=\"text-align:left\">BMI</td><td>787.18<sup>***</sup></td><td>789.74<sup>***</sup></td></tr>\n",
       "<tr><td style=\"text-align:left\"></td><td>(658.59 , 915.76)</td><td>(658.28 , 921.20)</td></tr>\n",
       "<tr><td style=\"text-align:left\">Oldness</td><td>37.24<sup></sup></td><td>24.70<sup></sup></td></tr>\n",
       "<tr><td style=\"text-align:left\"></td><td>(-88.78 , 163.26)</td><td>(-103.86 , 153.26)</td></tr>\n",
       "<tr><td style=\"text-align:left\">S1</td><td></td><td>197.85<sup></sup></td></tr>\n",
       "<tr><td style=\"text-align:left\"></td><td></td><td>(-84.80 , 480.51)</td></tr>\n",
       "<tr><td style=\"text-align:left\">Sex</td><td>-106.58<sup>*</sup></td><td>-82.86<sup></sup></td></tr>\n",
       "<tr><td style=\"text-align:left\"></td><td>(-228.68 , 15.52)</td><td>(-210.32 , 44.60)</td></tr>\n",
       "\n",
       "<td colspan=\"3\" style=\"border-bottom: 1px solid black\"></td></tr>\n",
       "<tr><td style=\"text-align: left\">Observations</td><td>442</td><td>442</td></tr><tr><td style=\"text-align: left\">R<sup>2</sup></td><td>0.40</td><td>0.40</td></tr><tr><td style=\"text-align: left\">Adjusted R<sup>2</sup></td><td>0.39</td><td>0.39</td></tr><tr><td style=\"text-align: left\">Residual Std. Error</td><td>59.98</td><td>59.98</td></tr><tr><td style=\"text-align: left\">F Statistic</td><td>72.91<sup>***</sup></td><td>48.91<sup>***</sup></td></tr>\n",
       "<tr><td colspan=\"3\" style=\"border-bottom: 1px solid black\"></td></tr><tr><td style=\"text-align: left\">Note:</td><td colspan=\"2\" style=\"text-align: right\"><sup>*</sup>p&lt;0.1; <sup>**</sup>p&lt;0.05; <sup>***</sup>p&lt;0.01</td></tr><tr><td></td><td colspan=\"2\" style=\"text-align: right\">First note</td></tr><tr><td></td><td colspan=\"2\" style=\"text-align: right\">Second note</td></tr></table>"
      ],
      "text/plain": [
       "<stargazer.stargazer.Stargazer at 0x7fb7b6523df0>"
      ]
     },
     "execution_count": 13,
     "metadata": {},
     "output_type": "execute_result"
    }
   ],
   "source": [
    "stargazer.add_custom_notes(['First note', 'Second note'])\n",
    "stargazer"
   ]
  },
  {
   "cell_type": "markdown",
   "metadata": {},
   "source": [
    "## Add Custom Lines"
   ]
  },
  {
   "cell_type": "code",
   "execution_count": 14,
   "metadata": {},
   "outputs": [
    {
     "data": {
      "text/html": [
       "Diabetes Study<br><table style=\"text-align:center\"><tr><td colspan=\"3\" style=\"border-bottom: 1px solid black\"></td></tr><tr><td style=\"text-align:left\"></td><td colspan=\"2\"><em>Dependent variable: target</em></td></tr><tr><td style=\"text-align:left\"></td><td colspan=\"2\">Test model name</td></tr><tr><td colspan=\"3\" style=\"border-bottom: 1px solid black\"></td></tr>\n",
       "\n",
       "<tr><td style=\"text-align:left\">BMI</td><td>787.18<sup>***</sup></td><td>789.74<sup>***</sup></td></tr>\n",
       "<tr><td style=\"text-align:left\"></td><td>(658.59 , 915.76)</td><td>(658.28 , 921.20)</td></tr>\n",
       "<tr><td style=\"text-align:left\">Oldness</td><td>37.24<sup></sup></td><td>24.70<sup></sup></td></tr>\n",
       "<tr><td style=\"text-align:left\"></td><td>(-88.78 , 163.26)</td><td>(-103.86 , 153.26)</td></tr>\n",
       "<tr><td style=\"text-align:left\">S1</td><td></td><td>197.85<sup></sup></td></tr>\n",
       "<tr><td style=\"text-align:left\"></td><td></td><td>(-84.80 , 480.51)</td></tr>\n",
       "<tr><td style=\"text-align:left\">Sex</td><td>-106.58<sup>*</sup></td><td>-82.86<sup></sup></td></tr>\n",
       "<tr><td style=\"text-align:left\"></td><td>(-228.68 , 15.52)</td><td>(-210.32 , 44.60)</td></tr>\n",
       "\n",
       "<tr><td style=\"text-align: left\">More controls</td><td>No</td><td>No</td></tr><td colspan=\"3\" style=\"border-bottom: 1px solid black\"></td></tr>\n",
       "<tr><td style=\"text-align: left\">Preferred</td><td>No</td><td>Yes</td></tr><tr><td style=\"text-align: left\">Observations</td><td>442</td><td>442</td></tr><tr><td style=\"text-align: left\">R<sup>2</sup></td><td>0.40</td><td>0.40</td></tr><tr><td style=\"text-align: left\">Adjusted R<sup>2</sup></td><td>0.39</td><td>0.39</td></tr><tr><td style=\"text-align: left\">Residual Std. Error</td><td>59.98</td><td>59.98</td></tr><tr><td style=\"text-align: left\">F Statistic</td><td>72.91<sup>***</sup></td><td>48.91<sup>***</sup></td></tr>\n",
       "<tr><td colspan=\"3\" style=\"border-bottom: 1px solid black\"></td></tr><tr><td style=\"text-align: left\">Note:</td><td colspan=\"2\" style=\"text-align: right\"><sup>*</sup>p&lt;0.1; <sup>**</sup>p&lt;0.05; <sup>***</sup>p&lt;0.01</td></tr><tr><td></td><td colspan=\"2\" style=\"text-align: right\">First note</td></tr><tr><td></td><td colspan=\"2\" style=\"text-align: right\">Second note</td></tr></table>"
      ],
      "text/plain": [
       "<stargazer.stargazer.Stargazer at 0x7fb7b6523df0>"
      ]
     },
     "execution_count": 14,
     "metadata": {},
     "output_type": "execute_result"
    }
   ],
   "source": [
    "stargazer.add_line('More controls', ['No', 'No'])\n",
    "stargazer.add_line('Preferred', ['No', 'Yes'], LineLocation.FOOTER_TOP)\n",
    "stargazer"
   ]
  },
  {
   "cell_type": "markdown",
   "metadata": {},
   "source": [
    "## Change Statistical Significance Cutoffs"
   ]
  },
  {
   "cell_type": "code",
   "execution_count": 15,
   "metadata": {},
   "outputs": [
    {
     "data": {
      "text/html": [
       "Diabetes Study<br><table style=\"text-align:center\"><tr><td colspan=\"3\" style=\"border-bottom: 1px solid black\"></td></tr><tr><td style=\"text-align:left\"></td><td colspan=\"2\"><em>Dependent variable: target</em></td></tr><tr><td style=\"text-align:left\"></td><td colspan=\"2\">Test model name</td></tr><tr><td colspan=\"3\" style=\"border-bottom: 1px solid black\"></td></tr>\n",
       "\n",
       "<tr><td style=\"text-align:left\">BMI</td><td>787.18<sup>***</sup></td><td>789.74<sup>***</sup></td></tr>\n",
       "<tr><td style=\"text-align:left\"></td><td>(658.59 , 915.76)</td><td>(658.28 , 921.20)</td></tr>\n",
       "<tr><td style=\"text-align:left\">Oldness</td><td>37.24<sup></sup></td><td>24.70<sup></sup></td></tr>\n",
       "<tr><td style=\"text-align:left\"></td><td>(-88.78 , 163.26)</td><td>(-103.86 , 153.26)</td></tr>\n",
       "<tr><td style=\"text-align:left\">S1</td><td></td><td>197.85<sup></sup></td></tr>\n",
       "<tr><td style=\"text-align:left\"></td><td></td><td>(-84.80 , 480.51)</td></tr>\n",
       "<tr><td style=\"text-align:left\">Sex</td><td>-106.58<sup>*</sup></td><td>-82.86<sup></sup></td></tr>\n",
       "<tr><td style=\"text-align:left\"></td><td>(-228.68 , 15.52)</td><td>(-210.32 , 44.60)</td></tr>\n",
       "\n",
       "<tr><td style=\"text-align: left\">More controls</td><td>No</td><td>No</td></tr><td colspan=\"3\" style=\"border-bottom: 1px solid black\"></td></tr>\n",
       "<tr><td style=\"text-align: left\">Preferred</td><td>No</td><td>Yes</td></tr><tr><td style=\"text-align: left\">Observations</td><td>442</td><td>442</td></tr><tr><td style=\"text-align: left\">R<sup>2</sup></td><td>0.40</td><td>0.40</td></tr><tr><td style=\"text-align: left\">Adjusted R<sup>2</sup></td><td>0.39</td><td>0.39</td></tr><tr><td style=\"text-align: left\">Residual Std. Error</td><td>59.98</td><td>59.98</td></tr><tr><td style=\"text-align: left\">F Statistic</td><td>72.91<sup>***</sup></td><td>48.91<sup>***</sup></td></tr>\n",
       "<tr><td colspan=\"3\" style=\"border-bottom: 1px solid black\"></td></tr><tr><td style=\"text-align: left\">Note:</td><td colspan=\"2\" style=\"text-align: right\"><sup>*</sup>p&lt;0.1; <sup>**</sup>p&lt;0.07; <sup>***</sup>p&lt;0.05</td></tr><tr><td></td><td colspan=\"2\" style=\"text-align: right\">First note</td></tr><tr><td></td><td colspan=\"2\" style=\"text-align: right\">Second note</td></tr></table>"
      ],
      "text/plain": [
       "<stargazer.stargazer.Stargazer at 0x7fb7b6523df0>"
      ]
     },
     "execution_count": 15,
     "metadata": {},
     "output_type": "execute_result"
    }
   ],
   "source": [
    "stargazer.significance_levels([0.1, 0.05, 0.07])\n",
    "stargazer"
   ]
  },
  {
   "cell_type": "markdown",
   "metadata": {},
   "source": [
    "## Don't Show Statistical Significance Levels In Notes"
   ]
  },
  {
   "cell_type": "code",
   "execution_count": 16,
   "metadata": {
    "scrolled": false
   },
   "outputs": [
    {
     "data": {
      "text/html": [
       "Diabetes Study<br><table style=\"text-align:center\"><tr><td colspan=\"3\" style=\"border-bottom: 1px solid black\"></td></tr><tr><td style=\"text-align:left\"></td><td colspan=\"2\"><em>Dependent variable: target</em></td></tr><tr><td style=\"text-align:left\"></td><td colspan=\"2\">Test model name</td></tr><tr><td colspan=\"3\" style=\"border-bottom: 1px solid black\"></td></tr>\n",
       "\n",
       "<tr><td style=\"text-align:left\">BMI</td><td>787.18<sup>***</sup></td><td>789.74<sup>***</sup></td></tr>\n",
       "<tr><td style=\"text-align:left\"></td><td>(658.59 , 915.76)</td><td>(658.28 , 921.20)</td></tr>\n",
       "<tr><td style=\"text-align:left\">Oldness</td><td>37.24<sup></sup></td><td>24.70<sup></sup></td></tr>\n",
       "<tr><td style=\"text-align:left\"></td><td>(-88.78 , 163.26)</td><td>(-103.86 , 153.26)</td></tr>\n",
       "<tr><td style=\"text-align:left\">S1</td><td></td><td>197.85<sup></sup></td></tr>\n",
       "<tr><td style=\"text-align:left\"></td><td></td><td>(-84.80 , 480.51)</td></tr>\n",
       "<tr><td style=\"text-align:left\">Sex</td><td>-106.58<sup>*</sup></td><td>-82.86<sup></sup></td></tr>\n",
       "<tr><td style=\"text-align:left\"></td><td>(-228.68 , 15.52)</td><td>(-210.32 , 44.60)</td></tr>\n",
       "\n",
       "<tr><td style=\"text-align: left\">More controls</td><td>No</td><td>No</td></tr><td colspan=\"3\" style=\"border-bottom: 1px solid black\"></td></tr>\n",
       "<tr><td style=\"text-align: left\">Preferred</td><td>No</td><td>Yes</td></tr><tr><td style=\"text-align: left\">Observations</td><td>442</td><td>442</td></tr><tr><td style=\"text-align: left\">R<sup>2</sup></td><td>0.40</td><td>0.40</td></tr><tr><td style=\"text-align: left\">Adjusted R<sup>2</sup></td><td>0.39</td><td>0.39</td></tr><tr><td style=\"text-align: left\">Residual Std. Error</td><td>59.98</td><td>59.98</td></tr><tr><td style=\"text-align: left\">F Statistic</td><td>72.91<sup>***</sup></td><td>48.91<sup>***</sup></td></tr>\n",
       "<tr><td colspan=\"3\" style=\"border-bottom: 1px solid black\"></td></tr><tr><td style=\"text-align: left\">Note:</td></tr><td></td><td colspan=\"2\" style=\"text-align: right\">First note</td></tr><tr><td></td><td colspan=\"2\" style=\"text-align: right\">Second note</td></tr></table>"
      ],
      "text/plain": [
       "<stargazer.stargazer.Stargazer at 0x7fb7b6523df0>"
      ]
     },
     "execution_count": 16,
     "metadata": {},
     "output_type": "execute_result"
    }
   ],
   "source": [
    "stargazer.append_notes(False)\n",
    "stargazer"
   ]
  },
  {
   "cell_type": "markdown",
   "metadata": {},
   "source": [
    "## Add spacing between rows"
   ]
  },
  {
   "cell_type": "code",
   "execution_count": 17,
   "metadata": {},
   "outputs": [
    {
     "data": {
      "text/html": [
       "Diabetes Study<br><table style=\"text-align:center\"><tr><td colspan=\"3\" style=\"border-bottom: 1px solid black\"></td></tr><tr><td style=\"text-align:left\"></td><td colspan=\"2\"><em>Dependent variable: target</em></td></tr><tr><td style=\"text-align:left\"></td><td colspan=\"2\">Test model name</td></tr><tr><td colspan=\"3\" style=\"border-bottom: 1px solid black\"></td></tr>\n",
       "\n",
       "<tr><td style=\"text-align:left\">BMI</td><td>787.18<sup>***</sup></td><td>789.74<sup>***</sup></td></tr>\n",
       "<tr><td style=\"text-align:left;padding-bottom:2em\"></td><td style=\"padding-bottom:2em\">(658.59 , 915.76)</td><td style=\"padding-bottom:2em\">(658.28 , 921.20)</td></tr>\n",
       "<tr><td style=\"text-align:left\">Oldness</td><td>37.24<sup></sup></td><td>24.70<sup></sup></td></tr>\n",
       "<tr><td style=\"text-align:left;padding-bottom:2em\"></td><td style=\"padding-bottom:2em\">(-88.78 , 163.26)</td><td style=\"padding-bottom:2em\">(-103.86 , 153.26)</td></tr>\n",
       "<tr><td style=\"text-align:left\">S1</td><td></td><td>197.85<sup></sup></td></tr>\n",
       "<tr><td style=\"text-align:left;padding-bottom:2em\"></td><td style=\"padding-bottom:2em\"></td><td style=\"padding-bottom:2em\">(-84.80 , 480.51)</td></tr>\n",
       "<tr><td style=\"text-align:left\">Sex</td><td>-106.58<sup>*</sup></td><td>-82.86<sup></sup></td></tr>\n",
       "<tr><td style=\"text-align:left;padding-bottom:2em\"></td><td style=\"padding-bottom:2em\">(-228.68 , 15.52)</td><td style=\"padding-bottom:2em\">(-210.32 , 44.60)</td></tr>\n",
       "\n",
       "<tr><td style=\"text-align: left\">More controls</td><td>No</td><td>No</td></tr><td colspan=\"3\" style=\"border-bottom: 1px solid black\"></td></tr>\n",
       "<tr><td style=\"text-align: left\">Preferred</td><td>No</td><td>Yes</td></tr><tr><td style=\"text-align: left\">Observations</td><td>442</td><td>442</td></tr><tr><td style=\"text-align: left\">R<sup>2</sup></td><td>0.40</td><td>0.40</td></tr><tr><td style=\"text-align: left\">Adjusted R<sup>2</sup></td><td>0.39</td><td>0.39</td></tr><tr><td style=\"text-align: left\">Residual Std. Error</td><td>59.98</td><td>59.98</td></tr><tr><td style=\"text-align: left\">F Statistic</td><td>72.91<sup>***</sup></td><td>48.91<sup>***</sup></td></tr>\n",
       "<tr><td colspan=\"3\" style=\"border-bottom: 1px solid black\"></td></tr><tr><td style=\"text-align: left\">Note:</td></tr><td></td><td colspan=\"2\" style=\"text-align: right\">First note</td></tr><tr><td></td><td colspan=\"2\" style=\"text-align: right\">Second note</td></tr></table>"
      ],
      "text/plain": [
       "<stargazer.stargazer.Stargazer at 0x7fb7b6523df0>"
      ]
     },
     "execution_count": 17,
     "metadata": {},
     "output_type": "execute_result"
    }
   ],
   "source": [
    "stargazer.cov_spacing = 2\n",
    "stargazer"
   ]
  }
 ],
 "metadata": {
  "kernelspec": {
   "display_name": "Python 3",
   "language": "python",
   "name": "python3"
  },
  "language_info": {
   "codemirror_mode": {
    "name": "ipython",
    "version": 3
   },
   "file_extension": ".py",
   "mimetype": "text/x-python",
   "name": "python",
   "nbconvert_exporter": "python",
   "pygments_lexer": "ipython3",
   "version": "3.9.2"
  }
 },
 "nbformat": 4,
 "nbformat_minor": 2
}
